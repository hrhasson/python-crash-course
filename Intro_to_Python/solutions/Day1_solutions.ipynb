{
 "cells": [
  {
   "cell_type": "markdown",
   "metadata": {
    "id": "npyIfosog6Ry"
   },
   "source": [
    "# **XSPL Research Experience for High school students (REH)** \n",
    "\n",
    "written by Jackie Champagne (UT Austin), adapted by Hannah Hasson (U of Rochester)   \n",
    "\n",
    "# Introduction to Python Day 1:\n",
    "## Basic Syntax, Variables & Arrays"
   ]
  },
  {
   "cell_type": "markdown",
   "metadata": {
    "id": "M4Z5ZR2Ig6R0"
   },
   "source": [
    "Hi there! Welcome to our brief introductory Python course for scientific coding. We will be teaching you skills ranging from the most basic tasks to some more advanced plotting techniques that will be helpful to you in research. \n",
    "\n",
    "These Colab notebooks work the same as **Jupyter notebooks**, which is a code editor you can use offline. The whole notebook is automatically saved periodically, but you can also save the outputs from your code as text files, plots, or images separate from the notebook. It is a great tool when you are building code from scratch and want to troubleshoot it or make a quick plot. \\\\\n",
    "\n",
    "If you are attending this workshop live, the Questions in this notebook are meant to be a short few lines of code which you will do during the workshop. The Exercises, in a separate notebook, are longer problems you will work on after lecture, with the expectation of having all exercises finished and submitted by the end of the course. You are encouraged to work collaboratively.\n",
    " \n",
    "Let's get started!\n",
    "\n",
    "&nbsp; \n",
    "\n",
    "## **Importing packages**\n",
    "\n",
    "The first thing you'll need to do when writing any code is import the packages you expect to use. **Packages** are groups of functions and keywords for some purpose. For example, the **numpy** package has mathematical functions like $sin(x)$ and constants like $\\pi$.\n",
    "\n",
    "\n",
    "You can put your **import statement** anywhere in your code, as long as it's written before you call a function from the package. But it's cleaner to put them all at the top, so that's what we'll do.\n",
    "\n",
    "For this tutorial, let's load up numpy and a couple other useful examples. **To run the code in a cell, click on the cell and press SHIFT+ENTER or click the play button.** To *comment* your code, put a hashtag (#) in front of each line of your comment. Do this to add notes explaining your code.\n",
    "\n",
    "&nbsp;\n",
    "\n",
    "Some examples of imports and commenting:"
   ]
  },
  {
   "cell_type": "code",
   "execution_count": null,
   "metadata": {
    "id": "woeqobz4g6R1"
   },
   "outputs": [],
   "source": [
    "import numpy as np #'import' loads up the package. \n",
    "\n",
    "#you can use 'as' to define a shortcut so you don't need to type\n",
    "#numpy before every use of the package. Most people use 'np'.\n",
    "\n",
    "import matplotlib.pyplot as plt\n",
    "\n",
    "from scipy import integrate #'from' allows you to import a specific sub-package"
   ]
  },
  {
   "cell_type": "markdown",
   "metadata": {
    "id": "w6CuNL0c2OKT"
   },
   "source": [
    "Now we don't have to import these packages again for the rest of our notebook! Calling a function or constant from one of your imported packages is simple. \n",
    "\n",
    "function:\n",
    "\n",
    "    nameofpackage.somefunction()\n",
    "or \n",
    "\n",
    "constant:\n",
    "\n",
    "    nameofpackage.someconstant"
   ]
  },
  {
   "cell_type": "markdown",
   "metadata": {
    "id": "qSa_HuU22-MP"
   },
   "source": [
    "Execute the example below to call the constant pi"
   ]
  },
  {
   "cell_type": "code",
   "execution_count": null,
   "metadata": {
    "colab": {
     "base_uri": "https://localhost:8080/"
    },
    "executionInfo": {
     "elapsed": 20,
     "status": "ok",
     "timestamp": 1621881385638,
     "user": {
      "displayName": "Hannah Hasson",
      "photoUrl": "https://lh3.googleusercontent.com/a-/AOh14GioHAVrb-zeqnC3J8ovKfnzU9k_CuARLJ5xw4AiYQ=s64",
      "userId": "03023097431734290550"
     },
     "user_tz": 240
    },
    "id": "yomiUqLX3N3q",
    "outputId": "8cb21964-7f1f-495e-bba0-43f7aa9f156b"
   },
   "outputs": [
    {
     "data": {
      "text/plain": [
       "3.141592653589793"
      ]
     },
     "execution_count": 19,
     "metadata": {
      "tags": []
     },
     "output_type": "execute_result"
    }
   ],
   "source": [
    "np.pi #remember we renamed numpy as np"
   ]
  },
  {
   "cell_type": "markdown",
   "metadata": {
    "id": "hGXWFPde3X0p"
   },
   "source": [
    "If you try to use something from a package without importing it, you will get a sassy little error message"
   ]
  },
  {
   "cell_type": "code",
   "execution_count": null,
   "metadata": {
    "colab": {
     "base_uri": "https://localhost:8080/",
     "height": 164
    },
    "executionInfo": {
     "elapsed": 32,
     "status": "error",
     "timestamp": 1621881385653,
     "user": {
      "displayName": "Hannah Hasson",
      "photoUrl": "https://lh3.googleusercontent.com/a-/AOh14GioHAVrb-zeqnC3J8ovKfnzU9k_CuARLJ5xw4AiYQ=s64",
      "userId": "03023097431734290550"
     },
     "user_tz": 240
    },
    "id": "35pGGhZ_3wox",
    "outputId": "f9e7faf0-1b68-447e-f004-dbf8b7f45be4"
   },
   "outputs": [
    {
     "ename": "NameError",
     "evalue": "ignored",
     "output_type": "error",
     "traceback": [
      "\u001b[0;31m---------------------------------------------------------------------------\u001b[0m",
      "\u001b[0;31mNameError\u001b[0m                                 Traceback (most recent call last)",
      "\u001b[0;32m<ipython-input-20-fcb7e982379d>\u001b[0m in \u001b[0;36m<module>\u001b[0;34m()\u001b[0m\n\u001b[0;32m----> 1\u001b[0;31m \u001b[0mpandas\u001b[0m\u001b[0;34m.\u001b[0m\u001b[0mread_csv\u001b[0m\u001b[0;34m(\u001b[0m\u001b[0;34m\"some_filename.pdf\"\u001b[0m\u001b[0;34m)\u001b[0m\u001b[0;34m\u001b[0m\u001b[0;34m\u001b[0m\u001b[0m\n\u001b[0m",
      "\u001b[0;31mNameError\u001b[0m: name 'pandas' is not defined"
     ]
    }
   ],
   "source": [
    "pandas.read_csv(\"some_filename.pdf\")"
   ]
  },
  {
   "cell_type": "markdown",
   "metadata": {
    "id": "k3ocSVXlg6R6"
   },
   "source": [
    "## **Setting Variables**\n",
    "\n",
    "To define a variable, use =. \n",
    "\n",
    "The variable gets assigned the value of whatever you put to the right of the equal sign. This can be a number, text, or many other data types."
   ]
  },
  {
   "cell_type": "code",
   "execution_count": null,
   "metadata": {
    "id": "oinqvfsxg6R7"
   },
   "outputs": [],
   "source": [
    "a = 1\n",
    "b = 2"
   ]
  },
  {
   "cell_type": "markdown",
   "metadata": {
    "id": "hBL0fZmEg6R_"
   },
   "source": [
    "Now Python will always know that a is 1 in this notebook. Setting variables is useful for things like constants, such as c = 3.0e8. Note that you can't start a variable name with a number!\n",
    "\n",
    "&nbsp;\n",
    "\n",
    "To check that this worked, we can print it out. The syntax for printing something is print(thing_you_want_to_print)."
   ]
  },
  {
   "cell_type": "code",
   "execution_count": null,
   "metadata": {
    "id": "40r_UmsDg6SA"
   },
   "outputs": [],
   "source": [
    "print(a) #this prints the value of a\n",
    "print(\"a\") #this prints the letter a"
   ]
  },
  {
   "cell_type": "markdown",
   "metadata": {
    "id": "s-zp0w2b3Vaw"
   },
   "source": [
    "Every new print statement goes to a new line. If you want to print multiple things together on the same line, you can just separate them by a comma in your print function."
   ]
  },
  {
   "cell_type": "code",
   "execution_count": null,
   "metadata": {
    "id": "9MZRMdidCYAq"
   },
   "outputs": [],
   "source": [
    "print(\"a equals\", a)"
   ]
  },
  {
   "cell_type": "markdown",
   "metadata": {
    "id": "bGTWCiQaW5PK"
   },
   "source": [
    "&nbsp;"
   ]
  },
  {
   "cell_type": "markdown",
   "metadata": {
    "id": "GORBHLDtg6SE"
   },
   "source": [
    "### **Boolean logic: comparing variables**\n",
    "\n",
    "The double equals sign, ==, represents **boolean logic**. This refers to comparing values and seeing a relationship is **true or false**. This will come in handy when you write code where your data must meet a certain criterion. \n"
   ]
  },
  {
   "cell_type": "code",
   "execution_count": null,
   "metadata": {
    "id": "OkCxekjkg6SF"
   },
   "outputs": [],
   "source": [
    "a == 1 #check if a is equal to 1"
   ]
  },
  {
   "cell_type": "code",
   "execution_count": null,
   "metadata": {
    "id": "pQzU8XhHg6SI"
   },
   "outputs": [],
   "source": [
    "a == 2 #check if a is equal to 2"
   ]
  },
  {
   "cell_type": "markdown",
   "metadata": {
    "id": "cGlLnH9zI2qP"
   },
   "source": [
    "Do NOT confuse the single equals = (assign variable) with the double == (check if T/F that something is equal).\n",
    "\n",
    "&nbsp; \n",
    "\n",
    "We can create criteria with multiple booleans!\n",
    "\n",
    "\n",
    "---\n",
    "\n",
    "\n",
    "\n",
    "OR statements: statement is TRUE if **either** A or B are true (or if both are true); statement is FALSE if both statements A and B are false.\n",
    "\n",
    "AND statements: statement is TRUE if and only if **both** A and B are true; statement is FALSE if one or both is false.\n",
    "\n",
    "&nbsp;\n",
    "\n",
    "In Python, the phrase \"a == 1 or 2\" does not make sense. The full statement must be \"a == 1 or a == 2\" so that each piece of logic is separate."
   ]
  },
  {
   "cell_type": "code",
   "execution_count": null,
   "metadata": {
    "id": "kRe2Tqddg6SM"
   },
   "outputs": [],
   "source": [
    "a == 1 or a == 2 #True or False"
   ]
  },
  {
   "cell_type": "code",
   "execution_count": null,
   "metadata": {
    "id": "I5DWldVhg6SP"
   },
   "outputs": [],
   "source": [
    "a == 1 and a == 2 #True and False"
   ]
  },
  {
   "cell_type": "code",
   "execution_count": null,
   "metadata": {
    "id": "ZFIwiDd9g6SS"
   },
   "outputs": [],
   "source": [
    "a == 1 or b == 2 #True or True"
   ]
  },
  {
   "cell_type": "markdown",
   "metadata": {
    "id": "NTLHqWsQHZhT"
   },
   "source": [
    "There are also other comparison operators. Here are all the basic ones you will use:\n",
    "    \n",
    "    ==   equal to\n",
    "    !=   not equal to\n",
    "    <    less than\n",
    "    <=   less than or equal to\n",
    "    >    greater than\n",
    "    >=   greater than or equal to\n",
    "\n"
   ]
  },
  {
   "cell_type": "markdown",
   "metadata": {
    "id": "pXxefVT8g6SV"
   },
   "source": [
    "## **Variable types**\n",
    "\n",
    "There are 3 kinds of basic variables in Python: **strings, floats, and integers**. \n",
    "\n",
    "A floating point value (**float**) is a number followed by a decimal. An **integer** is a whole number. A **string** has quotes around it and is treated as a word rather than a numeric value.\n",
    "\n",
    "\n",
    "### Question 1: What kinds of variables are the following? Fill it in as a comment on each line."
   ]
  },
  {
   "cell_type": "code",
   "execution_count": null,
   "metadata": {
    "id": "SsYHX2z_g6SW"
   },
   "outputs": [],
   "source": [
    "i = 1 # int\n",
    "j = 2.43 #float\n",
    "k = 'Hello world!' #string\n",
    "L = 3. #float\n",
    "m = \"123456\" #string"
   ]
  },
  {
   "cell_type": "markdown",
   "metadata": {
    "id": "D_wBDv-pt9NQ"
   },
   "source": [
    "Notice that this next line gives you an error. Why?"
   ]
  },
  {
   "cell_type": "code",
   "execution_count": null,
   "metadata": {
    "id": "QX7tA9RLZnCr"
   },
   "outputs": [],
   "source": [
    "n = Hello world!"
   ]
  },
  {
   "cell_type": "markdown",
   "metadata": {
    "id": "NanpfZCMg6SZ"
   },
   "source": [
    "\n",
    "\n",
    "You can **convert between variable types** if necessary, using the following commands:\n",
    "\n",
    "    int()\n",
    "    float()\n",
    "    str()\n",
    "    \n",
    "\n",
    "\n",
    "int() will print the whole number value of the float and *does not round*. float() will follow an integer with a .0, which sounds pointless but is sometimes necessary for Python arithmetic. str() will put quotes around it so that Python reads it literally rather than numerically.\n",
    "\n",
    "\n",
    "\n",
    "### Question 2: Convert i to a float and to a string. Convert j into an integer. Print type(k) to check your answer.\n"
   ]
  },
  {
   "cell_type": "code",
   "execution_count": null,
   "metadata": {
    "id": "jN_Sx3vvg6Sa"
   },
   "outputs": [],
   "source": [
    "# solution here\n",
    "\n",
    "i_float = float(i)\n",
    "i_string = str(i)\n",
    "j_int = int(j)\n",
    "print(i_float, i_string, j_int)\n",
    "print(type(i_float), type(i_string), type(j_int))\n",
    "print(type(k))"
   ]
  },
  {
   "cell_type": "markdown",
   "metadata": {
    "id": "Mo0swcrvg6Sd"
   },
   "source": [
    "### Now convert k to an integer. What happens? "
   ]
  },
  {
   "cell_type": "code",
   "execution_count": null,
   "metadata": {
    "id": "bsBOunDWg6Se"
   },
   "outputs": [],
   "source": [
    "#solution here\n",
    "\n",
    "k_int = int(k)"
   ]
  },
  {
   "cell_type": "markdown",
   "metadata": {
    "id": "7oWyeWG-g6Sl"
   },
   "source": [
    "&nbsp;\n",
    "\n",
    "## **Python arithmetic**\n",
    "\n",
    "The syntax for doing arithmetic is the following:\n",
    "\n",
    "    +           add\n",
    "    -           subtract\n",
    "    *           multiply\n",
    "    /           divide\n",
    "    **          power\n",
    "    np.log()    log-base e (natural log)\n",
    "    np.log10()  log-base 10\n",
    "    np.exp()    exponential"
   ]
  },
  {
   "cell_type": "code",
   "execution_count": null,
   "metadata": {
    "colab": {
     "base_uri": "https://localhost:8080/"
    },
    "executionInfo": {
     "elapsed": 235,
     "status": "ok",
     "timestamp": 1621881393097,
     "user": {
      "displayName": "Hannah Hasson",
      "photoUrl": "https://lh3.googleusercontent.com/a-/AOh14GioHAVrb-zeqnC3J8ovKfnzU9k_CuARLJ5xw4AiYQ=s64",
      "userId": "03023097431734290550"
     },
     "user_tz": 240
    },
    "id": "uYrAVmamg6Sm",
    "outputId": "dfea38dd-114f-4389-b58c-188aab3ceb45"
   },
   "outputs": [
    {
     "name": "stdout",
     "output_type": "stream",
     "text": [
      "8\n"
     ]
    }
   ],
   "source": [
    "example = 5 + 3\n",
    "print(example)"
   ]
  },
  {
   "cell_type": "code",
   "execution_count": null,
   "metadata": {
    "colab": {
     "base_uri": "https://localhost:8080/"
    },
    "executionInfo": {
     "elapsed": 235,
     "status": "ok",
     "timestamp": 1621881396096,
     "user": {
      "displayName": "Hannah Hasson",
      "photoUrl": "https://lh3.googleusercontent.com/a-/AOh14GioHAVrb-zeqnC3J8ovKfnzU9k_CuARLJ5xw4AiYQ=s64",
      "userId": "03023097431734290550"
     },
     "user_tz": 240
    },
    "id": "j5OMX7tog6Sp",
    "outputId": "29c6d831-98a7-404b-e3d3-6f4e371b3cba"
   },
   "outputs": [
    {
     "data": {
      "text/plain": [
       "3.43"
      ]
     },
     "execution_count": 22,
     "metadata": {
      "tags": []
     },
     "output_type": "execute_result"
    }
   ],
   "source": [
    "i + j"
   ]
  },
  {
   "cell_type": "code",
   "execution_count": null,
   "metadata": {
    "colab": {
     "base_uri": "https://localhost:8080/"
    },
    "executionInfo": {
     "elapsed": 3,
     "status": "ok",
     "timestamp": 1621881396316,
     "user": {
      "displayName": "Hannah Hasson",
      "photoUrl": "https://lh3.googleusercontent.com/a-/AOh14GioHAVrb-zeqnC3J8ovKfnzU9k_CuARLJ5xw4AiYQ=s64",
      "userId": "03023097431734290550"
     },
     "user_tz": 240
    },
    "id": "W4RT7H-kg6Sr",
    "outputId": "3884f361-ed53-4823-cce7-2fc1e2f1a23a"
   },
   "outputs": [
    {
     "data": {
      "text/plain": [
       "2.43"
      ]
     },
     "execution_count": 23,
     "metadata": {
      "tags": []
     },
     "output_type": "execute_result"
    }
   ],
   "source": [
    "i * j"
   ]
  },
  {
   "cell_type": "code",
   "execution_count": null,
   "metadata": {
    "colab": {
     "base_uri": "https://localhost:8080/"
    },
    "executionInfo": {
     "elapsed": 3,
     "status": "ok",
     "timestamp": 1621881396534,
     "user": {
      "displayName": "Hannah Hasson",
      "photoUrl": "https://lh3.googleusercontent.com/a-/AOh14GioHAVrb-zeqnC3J8ovKfnzU9k_CuARLJ5xw4AiYQ=s64",
      "userId": "03023097431734290550"
     },
     "user_tz": 240
    },
    "id": "mcgg1ChTg6Su",
    "outputId": "5fc987bb-423a-4ad7-f29b-aa47280cbd4a"
   },
   "outputs": [
    {
     "data": {
      "text/plain": [
       "1.4300000000000002"
      ]
     },
     "execution_count": 24,
     "metadata": {
      "tags": []
     },
     "output_type": "execute_result"
    }
   ],
   "source": [
    "j - i"
   ]
  },
  {
   "cell_type": "code",
   "execution_count": null,
   "metadata": {
    "colab": {
     "base_uri": "https://localhost:8080/"
    },
    "executionInfo": {
     "elapsed": 3,
     "status": "ok",
     "timestamp": 1621881396772,
     "user": {
      "displayName": "Hannah Hasson",
      "photoUrl": "https://lh3.googleusercontent.com/a-/AOh14GioHAVrb-zeqnC3J8ovKfnzU9k_CuARLJ5xw4AiYQ=s64",
      "userId": "03023097431734290550"
     },
     "user_tz": 240
    },
    "id": "P3pwPBrgg6Sx",
    "outputId": "8238b6ff-8a6a-4175-dc56-499ec35312dd"
   },
   "outputs": [
    {
     "data": {
      "text/plain": [
       "0.4115226337448559"
      ]
     },
     "execution_count": 25,
     "metadata": {
      "tags": []
     },
     "output_type": "execute_result"
    }
   ],
   "source": [
    "i / j "
   ]
  },
  {
   "cell_type": "markdown",
   "metadata": {
    "id": "afR8Ctt7g6S0"
   },
   "source": [
    "&nbsp;\n",
    "## **Arrays and Lists**\n",
    "\n",
    "When working with data, you usually won't be dealing with just one number, but a collection of values. These collections can consist of floats, integers, strings, or a combination of them. We distinguish here two types of data structures: **lists** and **arrays**. \n",
    "\n",
    "\n",
    "A list is denoted by brackets: [ ], while an array must be defined with np.array(). \n",
    "\n",
    "\n",
    "We talk about the size of 2D arrays in terms of their **dimensions**: (rows, columns). You will later reference a specific element in an array by its (row, column) coordinate in the array. This is called **indexing**.\n",
    "\n",
    "\n",
    "The following is a 1D list:"
   ]
  },
  {
   "cell_type": "code",
   "execution_count": null,
   "metadata": {
    "colab": {
     "base_uri": "https://localhost:8080/"
    },
    "executionInfo": {
     "elapsed": 253,
     "status": "ok",
     "timestamp": 1621881399917,
     "user": {
      "displayName": "Hannah Hasson",
      "photoUrl": "https://lh3.googleusercontent.com/a-/AOh14GioHAVrb-zeqnC3J8ovKfnzU9k_CuARLJ5xw4AiYQ=s64",
      "userId": "03023097431734290550"
     },
     "user_tz": 240
    },
    "id": "XbGSaae-g6S1",
    "outputId": "11539c1b-7f7c-4f88-d6bf-5b68daa0139f"
   },
   "outputs": [
    {
     "name": "stdout",
     "output_type": "stream",
     "text": [
      "['Barry B. Benson', 'Vanessa Bloome', 'Ray Liotta as Ray Liotta']\n"
     ]
    }
   ],
   "source": [
    "beemovie = ['Barry B. Benson', 'Vanessa Bloome', 'Ray Liotta as Ray Liotta']\n",
    "print(beemovie)"
   ]
  },
  {
   "cell_type": "markdown",
   "metadata": {
    "id": "onSkxsHqg6S3"
   },
   "source": [
    "\n",
    "For strings, this is fine, but **you will need to use *arrays* in order to manipulate them mathematically**. The array function is built into numpy. Here are a 1D array and a 2D array:"
   ]
  },
  {
   "cell_type": "code",
   "execution_count": null,
   "metadata": {
    "id": "UxZ3EmXYg6S4"
   },
   "outputs": [],
   "source": [
    "myarray = np.array([1, 2, 3]) #1D\n",
    "my2darray = np.array([[1, 2], [1, 2]]) #2D"
   ]
  },
  {
   "cell_type": "markdown",
   "metadata": {
    "id": "0oL9xFSdOFyC"
   },
   "source": [
    "Recall that in the beginning we imported numpy as np, so when we call functions from numpy we write np.function()."
   ]
  },
  {
   "cell_type": "markdown",
   "metadata": {
    "id": "1ZlGLI5Wg6S7"
   },
   "source": [
    "Notice the array function has parentheses (), and then the whole array must be enclosed in a set of brackets [] inside that. Within that, each row of the array should be in its own set of brackets, separated by commas.\n",
    "\n",
    "\n",
    "### Question 3: Create the following 2D array and then print it:\n",
    "\n",
    "    1 2 3\n",
    "    4 5 6"
   ]
  },
  {
   "cell_type": "code",
   "execution_count": null,
   "metadata": {
    "colab": {
     "base_uri": "https://localhost:8080/"
    },
    "executionInfo": {
     "elapsed": 487,
     "status": "ok",
     "timestamp": 1621881406097,
     "user": {
      "displayName": "Hannah Hasson",
      "photoUrl": "https://lh3.googleusercontent.com/a-/AOh14GioHAVrb-zeqnC3J8ovKfnzU9k_CuARLJ5xw4AiYQ=s64",
      "userId": "03023097431734290550"
     },
     "user_tz": 240
    },
    "id": "lKh2LkoPg6S7",
    "outputId": "476a8db9-1bbb-4ecd-aea6-2daa3216865b"
   },
   "outputs": [
    {
     "name": "stdout",
     "output_type": "stream",
     "text": [
      "[[1 2 3]\n",
      " [4 5 6]]\n"
     ]
    }
   ],
   "source": [
    "#solution here\n",
    "\n",
    "another_2d_array = np.array([[1, 2, 3], [4, 5, 6]])\n",
    "\n",
    "print(another_2d_array)"
   ]
  },
  {
   "cell_type": "markdown",
   "metadata": {
    "id": "tvy7ACFqg6S_"
   },
   "source": [
    "&nbsp; \n",
    "\n",
    "## **Populating Arrays**\n",
    "\n",
    "You don't always have to put values into your array manually, especially if, for example, you want a function to sample numbers evenly along some axis. \n",
    "\n",
    "\n",
    "Here are two ways to make arrays of evenly spaced numbers:\n",
    "\n",
    "---\n",
    "\n",
    "\n",
    "The first is np.linspace(), giving you an array with numbers between two values that are linearly spaced (e.g. 2, 4, 6, 8, 10). \n",
    "\n",
    "The second is np.logspace(), giving you an array between two values that are spaced evenly in log10 (e.g. 10^1, 10^1.1, 10^1.2).\n",
    "\n",
    "&nbsp;\n",
    "    \n",
    "The syntax is the following:\n",
    "\n",
    "    np.linspace(beginning number, end number, number of points)\n",
    "    np.logspace(beginning exponent, end exponent, number of points)\n",
    "\n",
    "&nbsp;\n",
    "\n",
    "The following also works if you don't feel like calculating the exponent for np.log10\n",
    "\n",
    "    np.logspace(np.log10(beginning number), np.log10(end number), number of points)\n",
    "  \n",
    "&nbsp;\n",
    "\n",
    "These are *inclusive* sampling functions, meaning that the end number you give is included in the output array.\n",
    "\n",
    "\n",
    "\n",
    "### Question 4: Create two arrays and assign them to variables. Each should have ten entries between 1 and 100, one in linear space and the other in logspace. Print them to check :)\n",
    "\n"
   ]
  },
  {
   "cell_type": "code",
   "execution_count": null,
   "metadata": {
    "colab": {
     "base_uri": "https://localhost:8080/"
    },
    "executionInfo": {
     "elapsed": 504,
     "status": "ok",
     "timestamp": 1621881430246,
     "user": {
      "displayName": "Hannah Hasson",
      "photoUrl": "https://lh3.googleusercontent.com/a-/AOh14GioHAVrb-zeqnC3J8ovKfnzU9k_CuARLJ5xw4AiYQ=s64",
      "userId": "03023097431734290550"
     },
     "user_tz": 240
    },
    "id": "ArwMCOBGg6S_",
    "outputId": "b7c77919-b0dd-40c1-d14b-b574afb21d6b"
   },
   "outputs": [
    {
     "name": "stdout",
     "output_type": "stream",
     "text": [
      "[  1.  12.  23.  34.  45.  56.  67.  78.  89. 100.] [  1.           1.66810054   2.7825594    4.64158883   7.74263683\n",
      "  12.91549665  21.5443469   35.93813664  59.94842503 100.        ] [  1.           1.66810054   2.7825594    4.64158883   7.74263683\n",
      "  12.91549665  21.5443469   35.93813664  59.94842503 100.        ]\n"
     ]
    }
   ],
   "source": [
    "# solution here\n",
    "\n",
    "linarray = np.linspace(1, 100, 10)\n",
    "logarray = np.logspace(0, 2, 10)\n",
    "logarray_alt = np.logspace(np.log10(1), np.log10(100), 10) #also correct\n",
    "\n",
    "print(linarray, logarray, logarray_alt)"
   ]
  },
  {
   "cell_type": "markdown",
   "metadata": {
    "id": "WUWG1Nqdg6TJ"
   },
   "source": [
    "\n",
    "\n",
    "Another quick way to create an array is through np.zeros. This populates an array with, well, zeros. It might sound useless at first, but it's an easy way to make an array that you will later replace with different values. It helps keep arrays at a fixed length, for instance. More on that later.\n",
    "\n",
    "&nbsp;\n",
    "\n",
    "The syntax is simply number of rows, number of columns. If it's 1D, then it can just be:\n",
    "\n",
    "    np.zeros(3) #1x3 array of zeros\n",
    "    \n",
    "If it's larger than 1D, you need two sets of parentheses:\n",
    "\n",
    "    np.zeros((rows, columns))\n",
    "    \n",
    "\n",
    "    \n",
    "### Question 5: Create a 3x3 array of zeros (and print it out)"
   ]
  },
  {
   "cell_type": "code",
   "execution_count": null,
   "metadata": {
    "colab": {
     "base_uri": "https://localhost:8080/"
    },
    "executionInfo": {
     "elapsed": 225,
     "status": "ok",
     "timestamp": 1621881449641,
     "user": {
      "displayName": "Hannah Hasson",
      "photoUrl": "https://lh3.googleusercontent.com/a-/AOh14GioHAVrb-zeqnC3J8ovKfnzU9k_CuARLJ5xw4AiYQ=s64",
      "userId": "03023097431734290550"
     },
     "user_tz": 240
    },
    "id": "2gY7couMg6TK",
    "outputId": "04eb1e24-b0cc-42dc-f19e-0e07f2b30bce"
   },
   "outputs": [
    {
     "name": "stdout",
     "output_type": "stream",
     "text": [
      "[[0. 0. 0.]\n",
      " [0. 0. 0.]\n",
      " [0. 0. 0.]]\n"
     ]
    }
   ],
   "source": [
    "#solution here\n",
    "\n",
    "zeros_array = np.zeros((3, 3))\n",
    "\n",
    "print(zeros_array)"
   ]
  },
  {
   "cell_type": "markdown",
   "metadata": {
    "id": "qRl9OzrgaFJ8"
   },
   "source": [
    "&nbsp; \n",
    "&nbsp; \n",
    "-------\n",
    "#PAUSE HERE AND TAKE A BREAK!\n",
    "-------"
   ]
  },
  {
   "cell_type": "markdown",
   "metadata": {
    "id": "SArwaM5Ug6TM"
   },
   "source": [
    "&nbsp; \n",
    "\n",
    "## **Indexing**\n",
    "\n",
    "An index is the position of some element in an array. Remember above we talked about using the coordinates (row, column) of an element in an array to get its value? \n",
    "\n",
    "### Note that **Python uses zero-based indexing!!**\n",
    "\n",
    "This means that the first value of an array is the 0th index. Repeating that: **the first value in an array is the zeroth index**. So the second element has index 1, the third has index 2, and so on...\n",
    "\n",
    "&nbsp;\n",
    "\n",
    "To call a certain value from an array, call the array name followed by brackets containing the index of the value you want:\n",
    "\n",
    "    array[0]\n",
    "\n",
    "or for 2D\n",
    "\n",
    "    array[0,0] # again in row, col notation\n",
    "    \n",
    "The value inside the brackets can also be a variable, so long as the variable is an **integer**. \n",
    "\n",
    "&nbsp;\n",
    "\n",
    "A helpful shortcut is that you can also count backwards in your array with a negative sign, so **the last value in your array is always array[-1]**.\n",
    "\n",
    "\n",
    "### Question 6: Print out the first and last value in your linspace array."
   ]
  },
  {
   "cell_type": "code",
   "execution_count": null,
   "metadata": {
    "colab": {
     "base_uri": "https://localhost:8080/"
    },
    "executionInfo": {
     "elapsed": 233,
     "status": "ok",
     "timestamp": 1621881468289,
     "user": {
      "displayName": "Hannah Hasson",
      "photoUrl": "https://lh3.googleusercontent.com/a-/AOh14GioHAVrb-zeqnC3J8ovKfnzU9k_CuARLJ5xw4AiYQ=s64",
      "userId": "03023097431734290550"
     },
     "user_tz": 240
    },
    "id": "ygJAGuvfg6TN",
    "outputId": "a586f60a-243b-4e04-f462-eb9e2100dce2"
   },
   "outputs": [
    {
     "name": "stdout",
     "output_type": "stream",
     "text": [
      "1.0 100.0\n"
     ]
    }
   ],
   "source": [
    "#solution here\n",
    "\n",
    "first_value = linarray[0]\n",
    "last_value = linarray[-1]\n",
    "print(first_value, last_value)"
   ]
  },
  {
   "cell_type": "markdown",
   "metadata": {
    "id": "ous553lZg6TP"
   },
   "source": [
    "&nbsp; \n",
    "### **Slicing arrays**\n",
    "\n",
    "Finally, you can also grab **slices** of arrays between certain index values. This is helpful if you want to plot only a small subsample of your data, for example.\n",
    "\n",
    "&nbsp;\n",
    "\n",
    "For slicing, use a colon. Syntax:\n",
    "\n",
    "    :x - from beginning to index x\n",
    "    x: - from index x until the end\n",
    "    a:b - from index a to b\n",
    "    a:b:c - every c'th entry between indices a and b\n",
    "    \n",
    "These can be combined, e.g. a::c goes from index a until the end in steps of c.\n",
    "\n",
    "&nbsp;\n",
    "\n",
    "Slicing is *exclusive*, so the last index of a range isn't included. For example, if you want to take index two through six of an array you should do:\n",
    "\n",
    "    array[2:7]\n",
    "\n",
    "\n",
    "### Question 7: Print out the following: a) your linear array until index 5; b) your log array beginning at index 1; c) your linear array between indices 4 and 8; and d) your full linear array in steps of 2 indices."
   ]
  },
  {
   "cell_type": "code",
   "execution_count": null,
   "metadata": {
    "colab": {
     "base_uri": "https://localhost:8080/"
    },
    "executionInfo": {
     "elapsed": 392,
     "status": "ok",
     "timestamp": 1621881484380,
     "user": {
      "displayName": "Hannah Hasson",
      "photoUrl": "https://lh3.googleusercontent.com/a-/AOh14GioHAVrb-zeqnC3J8ovKfnzU9k_CuARLJ5xw4AiYQ=s64",
      "userId": "03023097431734290550"
     },
     "user_tz": 240
    },
    "id": "3g5_AJLSg6TP",
    "outputId": "c9174ebc-10a0-45ff-a315-37495b7c6a4d"
   },
   "outputs": [
    {
     "name": "stdout",
     "output_type": "stream",
     "text": [
      "[ 1. 12. 23. 34. 45. 56.] [  1.66810054   2.7825594    4.64158883   7.74263683  12.91549665\n",
      "  21.5443469   35.93813664  59.94842503 100.        ] [45. 56. 67. 78. 89.] [ 1. 23. 45. 67. 89.] [ 1. 23. 45. 67. 89.]\n"
     ]
    }
   ],
   "source": [
    "#solution here\n",
    "\n",
    "until_index_5 = linarray[:6]\n",
    "begin_at_1 = logarray[1:]\n",
    "between_4_8 = linarray[4:9]\n",
    "steps_of_2 = linarray[::2]\n",
    "steps_of_2_longway = linarray[0:-1:2] #this is also correct\n",
    "print(until_index_5, begin_at_1, between_4_8, steps_of_2, steps_of_2_longway)"
   ]
  },
  {
   "cell_type": "markdown",
   "metadata": {
    "id": "MyHdzXzkg6TU"
   },
   "source": [
    "&nbsp; \n",
    "\n",
    "## **Array Manipulation and Attributes**\n",
    "\n",
    "You can manipulate all elements of an array with one statement. Check it out:\n",
    "\n",
    "### Question 8: Create a new array which is your logspace array divided by 2. Create another new array which is your linspace array + 2."
   ]
  },
  {
   "cell_type": "code",
   "execution_count": 33,
   "metadata": {
    "colab": {
     "base_uri": "https://localhost:8080/"
    },
    "executionInfo": {
     "elapsed": 309,
     "status": "ok",
     "timestamp": 1621881634557,
     "user": {
      "displayName": "Hannah Hasson",
      "photoUrl": "https://lh3.googleusercontent.com/a-/AOh14GioHAVrb-zeqnC3J8ovKfnzU9k_CuARLJ5xw4AiYQ=s64",
      "userId": "03023097431734290550"
     },
     "user_tz": 240
    },
    "id": "6pWCB8MHg6TV",
    "outputId": "40eae45b-8600-4d8e-d5fe-023b4bac42f6"
   },
   "outputs": [
    {
     "name": "stdout",
     "output_type": "stream",
     "text": [
      "[ 0.5         0.83405027  1.3912797   2.32079442  3.87131841  6.45774833\n",
      " 10.77217345 17.96906832 29.97421252 50.        ] [  3.  14.  25.  36.  47.  58.  69.  80.  91. 102.]\n"
     ]
    }
   ],
   "source": [
    "#solution here\n",
    "\n",
    "logarray_div_2 = logarray / 2\n",
    "linarray_plus_2 = linarray + 2\n",
    "\n",
    "print(logarray_div_2, linarray_plus_2)"
   ]
  },
  {
   "cell_type": "markdown",
   "metadata": {
    "id": "EpyJiUwbg6TY"
   },
   "source": [
    "\n",
    "\n",
    "You can **add values to the end of an array** using np.append(). Use it like this:\n",
    "\n",
    "    np.append(array, something_appended)\n",
    "    \n",
    "You can even append another array, like this:\n",
    "\n",
    "    np.append(array, [5, 6])\n",
    "    np.append(array1, array2)\n",
    "\n",
    "\n",
    "    \n",
    "### Question 9: Create a new array which is another linear array from 100 to 200 appended to your linspace array."
   ]
  },
  {
   "cell_type": "code",
   "execution_count": 34,
   "metadata": {
    "colab": {
     "base_uri": "https://localhost:8080/"
    },
    "executionInfo": {
     "elapsed": 546,
     "status": "ok",
     "timestamp": 1621881655265,
     "user": {
      "displayName": "Hannah Hasson",
      "photoUrl": "https://lh3.googleusercontent.com/a-/AOh14GioHAVrb-zeqnC3J8ovKfnzU9k_CuARLJ5xw4AiYQ=s64",
      "userId": "03023097431734290550"
     },
     "user_tz": 240
    },
    "id": "xEcCM2shg6TY",
    "outputId": "cd58473f-a723-4c05-fe8b-3338624bafc7"
   },
   "outputs": [
    {
     "name": "stdout",
     "output_type": "stream",
     "text": [
      "[  1.          12.          23.          34.          45.\n",
      "  56.          67.          78.          89.         100.\n",
      " 100.         111.11111111 122.22222222 133.33333333 144.44444444\n",
      " 155.55555556 166.66666667 177.77777778 188.88888889 200.        ]\n"
     ]
    }
   ],
   "source": [
    "#solution here\n",
    "\n",
    "linarray_append = np.append(linarray, np.linspace(100, 200, 10))\n",
    "print(linarray_append)"
   ]
  },
  {
   "cell_type": "markdown",
   "metadata": {
    "id": "I_yDyWXfg6Tb"
   },
   "source": [
    "\n",
    "\n",
    "The last part of today will be showing you how to acquire different information from an array. Some of these are attributes of the array, and some of them are attributes of np itself, so you may need to look this up again in the future.\n",
    "\n",
    "\n",
    "Attributes of the array means that you call this by nameofarray.command:\n",
    "   \n",
    "    ndim - prints dimensions of your array\n",
    "    size - number of elements in n-dimensional array\n",
    "    shape - shape given by (rows, columns)\n",
    "    flatten() - collapses the array along one axis\n",
    "    T - transpose the matrix\n",
    "    reshape(x, y) - change the dimensions of the array to x, y -- the total number of elements (x*y) MUST match\n",
    "   \n",
    "Attributes of numpy, meaning that you call it by np.command(nameofarray):\n",
    "\n",
    "    sum - sum all the elements in the array\n",
    "    min - print minimum value in array\n",
    "    max - print maximum value\n",
    "    sort - print array in ascending order\n",
    "    len - print number of elements along the row axis\n",
    "    dot - matrix multiplication\n",
    "\n",
    "\n",
    "### Question 10: Find the shape of your last array, and then print the sum of that array\n",
    "    "
   ]
  },
  {
   "cell_type": "code",
   "execution_count": 35,
   "metadata": {
    "colab": {
     "base_uri": "https://localhost:8080/"
    },
    "executionInfo": {
     "elapsed": 272,
     "status": "ok",
     "timestamp": 1621881698476,
     "user": {
      "displayName": "Hannah Hasson",
      "photoUrl": "https://lh3.googleusercontent.com/a-/AOh14GioHAVrb-zeqnC3J8ovKfnzU9k_CuARLJ5xw4AiYQ=s64",
      "userId": "03023097431734290550"
     },
     "user_tz": 240
    },
    "id": "z6cXwWLkYHBv",
    "outputId": "023ce460-09fd-487a-dffe-99330523da9f"
   },
   "outputs": [
    {
     "name": "stdout",
     "output_type": "stream",
     "text": [
      "2005.0\n"
     ]
    }
   ],
   "source": [
    "#solution here\n",
    "\n",
    "linarray_append.shape\n",
    "print(np.sum(linarray_append))"
   ]
  },
  {
   "cell_type": "markdown",
   "metadata": {
    "id": "8Po6uEVmg6Tb"
   },
   "source": [
    "&nbsp; \n",
    "\n",
    "### You will have received a link to exercises to do at the end of each day's lesson (Exercises.ipynb). Please do the Day 1 exercises with your fellow students before the start of the next session!"
   ]
  }
 ],
 "metadata": {
  "colab": {
   "collapsed_sections": [],
   "name": "Copy of Day1.ipynb",
   "provenance": []
  },
  "kernelspec": {
   "display_name": "Python 3",
   "language": "python",
   "name": "python3"
  },
  "language_info": {
   "codemirror_mode": {
    "name": "ipython",
    "version": 3
   },
   "file_extension": ".py",
   "mimetype": "text/x-python",
   "name": "python",
   "nbconvert_exporter": "python",
   "pygments_lexer": "ipython3",
   "version": "3.7.8"
  }
 },
 "nbformat": 4,
 "nbformat_minor": 1
}
