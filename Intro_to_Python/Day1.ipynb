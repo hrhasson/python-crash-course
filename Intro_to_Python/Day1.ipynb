{
 "cells": [
  {
   "cell_type": "markdown",
   "metadata": {
    "id": "npyIfosog6Ry"
   },
   "source": [
    "# **XSPL Research Experience for High school students (REH)** \n",
    "\n",
    "written by Jackie Champagne (UT Austin), adapted by Hannah Hasson (U of Rochester)  \n",
    "\n",
    "\n",
    "# Introduction to Python Day 1:\n",
    "## Basic Syntax, Variables & Arrays"
   ]
  },
  {
   "cell_type": "markdown",
   "metadata": {
    "id": "M4Z5ZR2Ig6R0"
   },
   "source": [
    "Hi there! Welcome to our brief introductory Python course for scientific coding. We will be teaching you skills ranging from the most basic tasks to some more advanced plotting techniques that will be helpful to you in research. \n",
    "\n",
    "\n",
    "These Colab notebooks work the same as **Jupyter notebooks**, which is a code editor you can use offline. They have a mix of text cells and code cells, which you can execute by clicking the \"play\" button or hitting **Shift-Enter**. The whole notebook is automatically saved periodically, but you can also save the outputs from your code as text files, plots, or images separate from the notebook. It is a great tool when you are building code from scratch and want to troubleshoot it or make a quick plot.\n",
    "\n",
    "\n",
    "If you are attending this workshop live, the Questions in this notebook are meant to be a short few lines of code which you will do during the workshop. The Exercises, in a separate notebook, are longer problems you will work on after lecture, with the expectation of having all exercises finished and submitted by the end of the course. You are encouraged to work collaboratively.\n",
    " \n",
    "Let's get started!\n",
    "\n",
    "&nbsp;\n",
    "\n",
    "## **Importing packages**\n",
    "\n",
    "The first thing you'll need to do when writing any code is import the packages you expect to use. **Packages** are groups of functions and keywords for some purpose. For example, the **numpy** package has mathematical functions like $sin(x)$ and constants like $\\pi$.\n",
    "\n",
    "\n",
    "You can put your **import statement** anywhere in your code, as long as it's written before you call a function from the package. But it's cleaner to put them all at the top, so that's what we'll do.\n",
    "\n",
    "\n",
    "For this tutorial, let's load up numpy and a couple other useful examples. **To run the code in a cell, click on the cell and press SHIFT+ENTER or click the play button.** To *comment* your code, put a hashtag (#) in front of each line of your comment. Do this to add notes explaining your code.\n",
    "\n",
    "Some examples of imports and commenting:"
   ]
  },
  {
   "cell_type": "code",
   "execution_count": null,
   "metadata": {
    "id": "woeqobz4g6R1"
   },
   "outputs": [],
   "source": [
    "import numpy as np #'import' loads up the package. \n",
    "\n",
    "#you can use 'as' to define a shortcut so you don't need to type\n",
    "#numpy before every use of the package. Most people use 'np'.\n",
    "\n",
    "import matplotlib.pyplot as plt\n",
    "\n",
    "from scipy import integrate #'from' allows you to import a specific sub-package"
   ]
  },
  {
   "cell_type": "markdown",
   "metadata": {
    "id": "w6CuNL0c2OKT"
   },
   "source": [
    "Now we don't have to import these packages again for the rest of our notebook! Calling a function or constant from one of your imported packages is simple. \n",
    "\n",
    "**function**:\n",
    "\n",
    "   `nameofpackage.somefunction()`\n",
    "\n",
    "or \n",
    "\n",
    "**constant**:\n",
    "\n",
    "   `nameofpackage.someconstant`"
   ]
  },
  {
   "cell_type": "markdown",
   "metadata": {
    "id": "qSa_HuU22-MP"
   },
   "source": [
    "Execute the example below to call the constant pi"
   ]
  },
  {
   "cell_type": "code",
   "execution_count": null,
   "metadata": {
    "colab": {
     "base_uri": "https://localhost:8080/"
    },
    "executionInfo": {
     "elapsed": 78,
     "status": "ok",
     "timestamp": 1621867975016,
     "user": {
      "displayName": "Hannah Hasson",
      "photoUrl": "https://lh3.googleusercontent.com/a-/AOh14GioHAVrb-zeqnC3J8ovKfnzU9k_CuARLJ5xw4AiYQ=s64",
      "userId": "03023097431734290550"
     },
     "user_tz": 240
    },
    "id": "yomiUqLX3N3q",
    "outputId": "e387e1e6-5b35-43d6-b32c-fdc450b33a70"
   },
   "outputs": [
    {
     "data": {
      "text/plain": [
       "3.141592653589793"
      ]
     },
     "execution_count": 3,
     "metadata": {
      "tags": []
     },
     "output_type": "execute_result"
    }
   ],
   "source": [
    "np.pi #remember we renamed numpy as np"
   ]
  },
  {
   "cell_type": "markdown",
   "metadata": {
    "id": "hGXWFPde3X0p"
   },
   "source": [
    "If you try to use something from a package without importing it, you will get a sassy little error message"
   ]
  },
  {
   "cell_type": "code",
   "execution_count": null,
   "metadata": {
    "colab": {
     "base_uri": "https://localhost:8080/",
     "height": 164
    },
    "executionInfo": {
     "elapsed": 103,
     "status": "error",
     "timestamp": 1621875970953,
     "user": {
      "displayName": "Hannah Hasson",
      "photoUrl": "https://lh3.googleusercontent.com/a-/AOh14GioHAVrb-zeqnC3J8ovKfnzU9k_CuARLJ5xw4AiYQ=s64",
      "userId": "03023097431734290550"
     },
     "user_tz": 240
    },
    "id": "35pGGhZ_3wox",
    "outputId": "6d6c2cd9-162b-4515-c41a-656d9df5c234"
   },
   "outputs": [
    {
     "ename": "NameError",
     "evalue": "ignored",
     "output_type": "error",
     "traceback": [
      "\u001b[0;31m---------------------------------------------------------------------------\u001b[0m",
      "\u001b[0;31mNameError\u001b[0m                                 Traceback (most recent call last)",
      "\u001b[0;32m<ipython-input-6-fcb7e982379d>\u001b[0m in \u001b[0;36m<module>\u001b[0;34m()\u001b[0m\n\u001b[0;32m----> 1\u001b[0;31m \u001b[0mpandas\u001b[0m\u001b[0;34m.\u001b[0m\u001b[0mread_csv\u001b[0m\u001b[0;34m(\u001b[0m\u001b[0;34m\"some_filename.pdf\"\u001b[0m\u001b[0;34m)\u001b[0m\u001b[0;34m\u001b[0m\u001b[0;34m\u001b[0m\u001b[0m\n\u001b[0m",
      "\u001b[0;31mNameError\u001b[0m: name 'pandas' is not defined"
     ]
    }
   ],
   "source": [
    "pandas.read_csv(\"some_filename.pdf\")"
   ]
  },
  {
   "cell_type": "markdown",
   "metadata": {
    "id": "k3ocSVXlg6R6"
   },
   "source": [
    "## **Setting Variables**\n",
    "\n",
    "To define a variable, use =. \n",
    "\n",
    "The variable gets assigned the value of whatever you put to the right of the equal sign. This can be a number, text, or many other data types."
   ]
  },
  {
   "cell_type": "code",
   "execution_count": null,
   "metadata": {
    "id": "oinqvfsxg6R7"
   },
   "outputs": [],
   "source": [
    "a = 1\n",
    "b = 2"
   ]
  },
  {
   "cell_type": "markdown",
   "metadata": {
    "id": "hBL0fZmEg6R_"
   },
   "source": [
    "Now Python will always know that a is 1 in this notebook. Setting variables is useful for things like constants, such as c = 3.0e8. Note that you can't start a variable name with a number!\n",
    "\n",
    "\n",
    "To check that this worked, we can print it out. The syntax for printing something is print(thing_you_want_to_print)."
   ]
  },
  {
   "cell_type": "code",
   "execution_count": null,
   "metadata": {
    "colab": {
     "base_uri": "https://localhost:8080/"
    },
    "executionInfo": {
     "elapsed": 95,
     "status": "ok",
     "timestamp": 1621876130916,
     "user": {
      "displayName": "Hannah Hasson",
      "photoUrl": "https://lh3.googleusercontent.com/a-/AOh14GioHAVrb-zeqnC3J8ovKfnzU9k_CuARLJ5xw4AiYQ=s64",
      "userId": "03023097431734290550"
     },
     "user_tz": 240
    },
    "id": "40r_UmsDg6SA",
    "outputId": "d219b92b-dd24-442e-c593-04059b565de4"
   },
   "outputs": [
    {
     "name": "stdout",
     "output_type": "stream",
     "text": [
      "1\n",
      "a\n"
     ]
    }
   ],
   "source": [
    "print(a) #this prints the value of a\n",
    "print(\"a\") #this prints the letter a"
   ]
  },
  {
   "cell_type": "markdown",
   "metadata": {
    "id": "s-zp0w2b3Vaw"
   },
   "source": [
    "Every new print statement goes to a new line. If you want to print multiple things together on the same line, you can just separate them by a comma in your print function."
   ]
  },
  {
   "cell_type": "code",
   "execution_count": null,
   "metadata": {
    "colab": {
     "base_uri": "https://localhost:8080/"
    },
    "executionInfo": {
     "elapsed": 286,
     "status": "ok",
     "timestamp": 1621626723580,
     "user": {
      "displayName": "Hannah Hasson",
      "photoUrl": "https://lh3.googleusercontent.com/a-/AOh14GioHAVrb-zeqnC3J8ovKfnzU9k_CuARLJ5xw4AiYQ=s64",
      "userId": "03023097431734290550"
     },
     "user_tz": 240
    },
    "id": "9MZRMdidCYAq",
    "outputId": "94b81a89-0e01-4574-d0da-86db8ef2f658"
   },
   "outputs": [
    {
     "name": "stdout",
     "output_type": "stream",
     "text": [
      "a equals 1\n"
     ]
    }
   ],
   "source": [
    "print(\"a equals\", a)"
   ]
  },
  {
   "cell_type": "markdown",
   "metadata": {
    "id": "GORBHLDtg6SE"
   },
   "source": [
    "### **Boolean logic: comparing variables**\n",
    "\n",
    "The double equals sign, ==, represents **boolean logic**. This refers to comparing values and seeing a relationship is **true or false**. This will come in handy when you write code where your data must meet a certain criterion. \n"
   ]
  },
  {
   "cell_type": "code",
   "execution_count": null,
   "metadata": {
    "colab": {
     "base_uri": "https://localhost:8080/",
     "height": 34
    },
    "executionInfo": {
     "elapsed": 411,
     "status": "ok",
     "timestamp": 1597760635894,
     "user": {
      "displayName": "Hannah Hasson",
      "photoUrl": "https://lh3.googleusercontent.com/a-/AOh14GioHAVrb-zeqnC3J8ovKfnzU9k_CuARLJ5xw4AiYQ=s64",
      "userId": "03023097431734290550"
     },
     "user_tz": 240
    },
    "id": "OkCxekjkg6SF",
    "outputId": "1dbe8ea9-4c70-4977-aa53-2c0b8f973556"
   },
   "outputs": [
    {
     "data": {
      "text/plain": [
       "True"
      ]
     },
     "execution_count": 9,
     "metadata": {
      "tags": []
     },
     "output_type": "execute_result"
    }
   ],
   "source": [
    "a == 1 #check if a is equal to 1"
   ]
  },
  {
   "cell_type": "code",
   "execution_count": null,
   "metadata": {
    "colab": {
     "base_uri": "https://localhost:8080/",
     "height": 34
    },
    "executionInfo": {
     "elapsed": 416,
     "status": "ok",
     "timestamp": 1597760639274,
     "user": {
      "displayName": "Hannah Hasson",
      "photoUrl": "https://lh3.googleusercontent.com/a-/AOh14GioHAVrb-zeqnC3J8ovKfnzU9k_CuARLJ5xw4AiYQ=s64",
      "userId": "03023097431734290550"
     },
     "user_tz": 240
    },
    "id": "pQzU8XhHg6SI",
    "outputId": "f4ec4455-fa66-44ac-98a3-200fc2acba86"
   },
   "outputs": [
    {
     "data": {
      "text/plain": [
       "False"
      ]
     },
     "execution_count": 10,
     "metadata": {
      "tags": []
     },
     "output_type": "execute_result"
    }
   ],
   "source": [
    "a == 2 #check if a is equal to 2"
   ]
  },
  {
   "cell_type": "markdown",
   "metadata": {
    "id": "cGlLnH9zI2qP"
   },
   "source": [
    "Do NOT confuse the single equals = (assign variable) with the double == (check if T/F that something is equal).\n",
    "\n",
    "&nbsp; \n",
    "\n",
    "We can create criteria with multiple booleans!\n",
    "\n",
    "\n",
    "---\n",
    "\n",
    "\n",
    "\n",
    "OR statements: statement is TRUE if **either** A or B are true (or if both are true); statement is FALSE if both statements A and B are false.\n",
    "\n",
    "AND statements: statement is TRUE if and only if **both** A and B are true; statement is FALSE if one or both is false.\n",
    "\n",
    "&nbsp;\n",
    "\n",
    "In Python, the phrase \"a == 1 or 2\" does not make sense. The full statement must be \"a == 1 or a == 2\" so that each piece of logic is separate."
   ]
  },
  {
   "cell_type": "code",
   "execution_count": null,
   "metadata": {
    "colab": {
     "base_uri": "https://localhost:8080/"
    },
    "executionInfo": {
     "elapsed": 104,
     "status": "ok",
     "timestamp": 1621876485684,
     "user": {
      "displayName": "Hannah Hasson",
      "photoUrl": "https://lh3.googleusercontent.com/a-/AOh14GioHAVrb-zeqnC3J8ovKfnzU9k_CuARLJ5xw4AiYQ=s64",
      "userId": "03023097431734290550"
     },
     "user_tz": 240
    },
    "id": "kRe2Tqddg6SM",
    "outputId": "f27cf144-67b8-4456-e4d2-fc443f8ca6e8"
   },
   "outputs": [
    {
     "data": {
      "text/plain": [
       "True"
      ]
     },
     "execution_count": 10,
     "metadata": {
      "tags": []
     },
     "output_type": "execute_result"
    }
   ],
   "source": [
    "a == 1 or a == 2 #True or False"
   ]
  },
  {
   "cell_type": "code",
   "execution_count": null,
   "metadata": {
    "colab": {
     "base_uri": "https://localhost:8080/"
    },
    "executionInfo": {
     "elapsed": 94,
     "status": "ok",
     "timestamp": 1621876487006,
     "user": {
      "displayName": "Hannah Hasson",
      "photoUrl": "https://lh3.googleusercontent.com/a-/AOh14GioHAVrb-zeqnC3J8ovKfnzU9k_CuARLJ5xw4AiYQ=s64",
      "userId": "03023097431734290550"
     },
     "user_tz": 240
    },
    "id": "I5DWldVhg6SP",
    "outputId": "144539e7-f141-43fa-bafa-09299cd6ff4d"
   },
   "outputs": [
    {
     "data": {
      "text/plain": [
       "False"
      ]
     },
     "execution_count": 11,
     "metadata": {
      "tags": []
     },
     "output_type": "execute_result"
    }
   ],
   "source": [
    "a == 1 and a == 2 #True and False"
   ]
  },
  {
   "cell_type": "code",
   "execution_count": null,
   "metadata": {
    "colab": {
     "base_uri": "https://localhost:8080/"
    },
    "executionInfo": {
     "elapsed": 97,
     "status": "ok",
     "timestamp": 1621876488724,
     "user": {
      "displayName": "Hannah Hasson",
      "photoUrl": "https://lh3.googleusercontent.com/a-/AOh14GioHAVrb-zeqnC3J8ovKfnzU9k_CuARLJ5xw4AiYQ=s64",
      "userId": "03023097431734290550"
     },
     "user_tz": 240
    },
    "id": "ZFIwiDd9g6SS",
    "outputId": "24586ec6-30fc-4bbd-f5ef-d9ebe104de58"
   },
   "outputs": [
    {
     "data": {
      "text/plain": [
       "True"
      ]
     },
     "execution_count": 12,
     "metadata": {
      "tags": []
     },
     "output_type": "execute_result"
    }
   ],
   "source": [
    "a == 1 or b == 2 #True or True"
   ]
  },
  {
   "cell_type": "markdown",
   "metadata": {
    "id": "NTLHqWsQHZhT"
   },
   "source": [
    "There are also other comparison operators. Here are all the basic ones you will use:\n",
    "    \n",
    "    ==   equal to\n",
    "    !=   not equal to\n",
    "    <    less than\n",
    "    <=   less than or equal to\n",
    "    >    greater than\n",
    "    >=   greater than or equal to\n",
    "\n"
   ]
  },
  {
   "cell_type": "code",
   "execution_count": null,
   "metadata": {
    "colab": {
     "base_uri": "https://localhost:8080/"
    },
    "executionInfo": {
     "elapsed": 121,
     "status": "ok",
     "timestamp": 1621881984194,
     "user": {
      "displayName": "Hannah Hasson",
      "photoUrl": "https://lh3.googleusercontent.com/a-/AOh14GioHAVrb-zeqnC3J8ovKfnzU9k_CuARLJ5xw4AiYQ=s64",
      "userId": "03023097431734290550"
     },
     "user_tz": 240
    },
    "id": "JeC5ogUbssVM",
    "outputId": "4604a72e-d066-4a2e-ad42-3c415e35444a"
   },
   "outputs": [
    {
     "data": {
      "text/plain": [
       "True"
      ]
     },
     "execution_count": 22,
     "metadata": {
      "tags": []
     },
     "output_type": "execute_result"
    }
   ],
   "source": [
    "a >= 0"
   ]
  },
  {
   "cell_type": "markdown",
   "metadata": {
    "id": "pXxefVT8g6SV"
   },
   "source": [
    "&nbsp;\n",
    "## **Variable types**\n",
    "\n",
    "There are 3 kinds of basic variables in Python: **strings, floats, and integers**. \n",
    "\n",
    "\n",
    "\n",
    "A floating point value (**float**) is a number followed by a decimal. An **integer** is a whole number. A **string** has quotes around it and is treated as a word rather than a numeric value.\n",
    "\n",
    "\n",
    "### Question 1: What kinds of variables are the following? Fill it in as a comment on each line."
   ]
  },
  {
   "cell_type": "code",
   "execution_count": null,
   "metadata": {
    "id": "SsYHX2z_g6SW"
   },
   "outputs": [],
   "source": [
    "i = 1 # Fill in here!!!\n",
    "j = 2.43 #\n",
    "k = 'Hello world!' #\n",
    "L = 3. #\n",
    "m = \"123456\" #"
   ]
  },
  {
   "cell_type": "markdown",
   "metadata": {
    "id": "D_wBDv-pt9NQ"
   },
   "source": [
    "Notice that this next line gives you an error. Why?"
   ]
  },
  {
   "cell_type": "code",
   "execution_count": null,
   "metadata": {
    "colab": {
     "base_uri": "https://localhost:8080/",
     "height": 130
    },
    "executionInfo": {
     "elapsed": 104,
     "status": "error",
     "timestamp": 1621877020499,
     "user": {
      "displayName": "Hannah Hasson",
      "photoUrl": "https://lh3.googleusercontent.com/a-/AOh14GioHAVrb-zeqnC3J8ovKfnzU9k_CuARLJ5xw4AiYQ=s64",
      "userId": "03023097431734290550"
     },
     "user_tz": 240
    },
    "id": "QX7tA9RLZnCr",
    "outputId": "509f970a-eb78-49e6-e257-4edb030bba14"
   },
   "outputs": [
    {
     "ename": "SyntaxError",
     "evalue": "ignored",
     "output_type": "error",
     "traceback": [
      "\u001b[0;36m  File \u001b[0;32m\"<ipython-input-14-4f89b20cd0ab>\"\u001b[0;36m, line \u001b[0;32m1\u001b[0m\n\u001b[0;31m    n = Hello world!\u001b[0m\n\u001b[0m                  ^\u001b[0m\n\u001b[0;31mSyntaxError\u001b[0m\u001b[0;31m:\u001b[0m invalid syntax\n"
     ]
    }
   ],
   "source": [
    "n = Hello world!"
   ]
  },
  {
   "cell_type": "markdown",
   "metadata": {
    "id": "NanpfZCMg6SZ"
   },
   "source": [
    "You can **convert between variable types** if necessary, using the following commands:\n",
    "\n",
    "    int()\n",
    "    float()\n",
    "    str()\n",
    "    \n",
    "\n",
    "int() will print the whole number value of the float and *does not round*. float() will follow an integer with a .0, which sounds pointless but is sometimes necessary for Python arithmetic. str() will put quotes around it so that Python reads it literally rather than numerically.\n",
    "\n",
    "\n",
    "\n",
    "### Question 2: Convert i to a float and to a string. Convert j into an integer. Print type(k) to check your answer.\n"
   ]
  },
  {
   "cell_type": "code",
   "execution_count": null,
   "metadata": {
    "id": "jN_Sx3vvg6Sa"
   },
   "outputs": [],
   "source": [
    "# solution here"
   ]
  },
  {
   "cell_type": "markdown",
   "metadata": {
    "id": "Mo0swcrvg6Sd"
   },
   "source": [
    "### Now convert k to an integer. What happens? "
   ]
  },
  {
   "cell_type": "code",
   "execution_count": null,
   "metadata": {
    "id": "bsBOunDWg6Se"
   },
   "outputs": [],
   "source": [
    "#solution here"
   ]
  },
  {
   "cell_type": "markdown",
   "metadata": {
    "id": "7oWyeWG-g6Sl"
   },
   "source": [
    "&nbsp;\n",
    "\n",
    "## **Python arithmetic**\n",
    "\n",
    "The syntax for doing arithmetic is the following:\n",
    "\n",
    "    +           add\n",
    "    -           subtract\n",
    "    *           multiply\n",
    "    /           divide\n",
    "    **          power\n",
    "    np.log()    log-base e (natural log)\n",
    "    np.log10()  log-base 10\n",
    "    np.exp()    exponential"
   ]
  },
  {
   "cell_type": "code",
   "execution_count": null,
   "metadata": {
    "colab": {
     "base_uri": "https://localhost:8080/"
    },
    "executionInfo": {
     "elapsed": 112,
     "status": "ok",
     "timestamp": 1621877179441,
     "user": {
      "displayName": "Hannah Hasson",
      "photoUrl": "https://lh3.googleusercontent.com/a-/AOh14GioHAVrb-zeqnC3J8ovKfnzU9k_CuARLJ5xw4AiYQ=s64",
      "userId": "03023097431734290550"
     },
     "user_tz": 240
    },
    "id": "uYrAVmamg6Sm",
    "outputId": "499a476f-f172-48fb-9b8a-ee63d96165c8"
   },
   "outputs": [
    {
     "name": "stdout",
     "output_type": "stream",
     "text": [
      "8\n"
     ]
    }
   ],
   "source": [
    "example = 5 + 3\n",
    "print(example)"
   ]
  },
  {
   "cell_type": "code",
   "execution_count": null,
   "metadata": {
    "colab": {
     "base_uri": "https://localhost:8080/"
    },
    "executionInfo": {
     "elapsed": 98,
     "status": "ok",
     "timestamp": 1621877253940,
     "user": {
      "displayName": "Hannah Hasson",
      "photoUrl": "https://lh3.googleusercontent.com/a-/AOh14GioHAVrb-zeqnC3J8ovKfnzU9k_CuARLJ5xw4AiYQ=s64",
      "userId": "03023097431734290550"
     },
     "user_tz": 240
    },
    "id": "j5OMX7tog6Sp",
    "outputId": "95f763ae-79c1-469a-8427-cbcf27e1377b"
   },
   "outputs": [
    {
     "data": {
      "text/plain": [
       "3.43"
      ]
     },
     "execution_count": 18,
     "metadata": {
      "tags": []
     },
     "output_type": "execute_result"
    }
   ],
   "source": [
    "i + j"
   ]
  },
  {
   "cell_type": "code",
   "execution_count": null,
   "metadata": {
    "colab": {
     "base_uri": "https://localhost:8080/"
    },
    "executionInfo": {
     "elapsed": 83,
     "status": "ok",
     "timestamp": 1621877259576,
     "user": {
      "displayName": "Hannah Hasson",
      "photoUrl": "https://lh3.googleusercontent.com/a-/AOh14GioHAVrb-zeqnC3J8ovKfnzU9k_CuARLJ5xw4AiYQ=s64",
      "userId": "03023097431734290550"
     },
     "user_tz": 240
    },
    "id": "W4RT7H-kg6Sr",
    "outputId": "a3ba130d-456b-4315-9f4c-abda57a9b8f8"
   },
   "outputs": [
    {
     "data": {
      "text/plain": [
       "2.43"
      ]
     },
     "execution_count": 19,
     "metadata": {
      "tags": []
     },
     "output_type": "execute_result"
    }
   ],
   "source": [
    "i * j"
   ]
  },
  {
   "cell_type": "code",
   "execution_count": null,
   "metadata": {
    "colab": {
     "base_uri": "https://localhost:8080/"
    },
    "executionInfo": {
     "elapsed": 89,
     "status": "ok",
     "timestamp": 1621877261156,
     "user": {
      "displayName": "Hannah Hasson",
      "photoUrl": "https://lh3.googleusercontent.com/a-/AOh14GioHAVrb-zeqnC3J8ovKfnzU9k_CuARLJ5xw4AiYQ=s64",
      "userId": "03023097431734290550"
     },
     "user_tz": 240
    },
    "id": "mcgg1ChTg6Su",
    "outputId": "5824068e-e33d-4457-e30e-2b4808fd113f"
   },
   "outputs": [
    {
     "data": {
      "text/plain": [
       "1.4300000000000002"
      ]
     },
     "execution_count": 20,
     "metadata": {
      "tags": []
     },
     "output_type": "execute_result"
    }
   ],
   "source": [
    "j - i"
   ]
  },
  {
   "cell_type": "code",
   "execution_count": null,
   "metadata": {
    "colab": {
     "base_uri": "https://localhost:8080/"
    },
    "executionInfo": {
     "elapsed": 82,
     "status": "ok",
     "timestamp": 1621877262668,
     "user": {
      "displayName": "Hannah Hasson",
      "photoUrl": "https://lh3.googleusercontent.com/a-/AOh14GioHAVrb-zeqnC3J8ovKfnzU9k_CuARLJ5xw4AiYQ=s64",
      "userId": "03023097431734290550"
     },
     "user_tz": 240
    },
    "id": "P3pwPBrgg6Sx",
    "outputId": "8140e438-003e-4c30-8a64-bd8e1110c046"
   },
   "outputs": [
    {
     "data": {
      "text/plain": [
       "0.4115226337448559"
      ]
     },
     "execution_count": 21,
     "metadata": {
      "tags": []
     },
     "output_type": "execute_result"
    }
   ],
   "source": [
    "i / j "
   ]
  },
  {
   "cell_type": "markdown",
   "metadata": {
    "id": "afR8Ctt7g6S0"
   },
   "source": [
    "&nbsp;\n",
    "## **Arrays and Lists**\n",
    "\n",
    "When working with data, you usually won't be dealing with just one number, but a collection of values. These collections can consist of floats, integers, strings, or a combination of them. We distinguish here two types of data structures: **lists** and **arrays**. \n",
    "\n",
    "\n",
    "A list is denoted by brackets: [ ], while an array must be defined with np.array(). \n",
    "\n",
    "\n",
    "We talk about the size of 2D arrays in terms of their **dimensions**: (rows, columns). You will later reference a specific element in an array by its (row, column) coordinate in the array. This is called **indexing**.\n",
    "\n",
    "\n",
    "The following is a 1D list:"
   ]
  },
  {
   "cell_type": "code",
   "execution_count": null,
   "metadata": {
    "colab": {
     "base_uri": "https://localhost:8080/",
     "height": 34
    },
    "executionInfo": {
     "elapsed": 329,
     "status": "ok",
     "timestamp": 1597763385165,
     "user": {
      "displayName": "Hannah Hasson",
      "photoUrl": "https://lh3.googleusercontent.com/a-/AOh14GioHAVrb-zeqnC3J8ovKfnzU9k_CuARLJ5xw4AiYQ=s64",
      "userId": "03023097431734290550"
     },
     "user_tz": 240
    },
    "id": "XbGSaae-g6S1",
    "outputId": "341a7c22-7cf0-4439-e8ee-34f99f3752aa"
   },
   "outputs": [
    {
     "name": "stdout",
     "output_type": "stream",
     "text": [
      "['Barry B. Benson', 'Vanessa Bloome', 'Ray Liotta as Ray Liotta']\n"
     ]
    }
   ],
   "source": [
    "beemovie = ['Barry B. Benson', 'Vanessa Bloome', 'Ray Liotta as Ray Liotta']\n",
    "print(beemovie)"
   ]
  },
  {
   "cell_type": "markdown",
   "metadata": {
    "id": "onSkxsHqg6S3"
   },
   "source": [
    "For strings, this is fine, but **you will need to use *arrays* in order to manipulate them mathematically**. The array function is built into numpy. Here are a 1D array and a 2D array:"
   ]
  },
  {
   "cell_type": "code",
   "execution_count": null,
   "metadata": {
    "id": "UxZ3EmXYg6S4"
   },
   "outputs": [],
   "source": [
    "myarray = np.array([1, 2, 3]) #1D\n",
    "my2darray = np.array([[1, 2], [1, 2]]) #2D"
   ]
  },
  {
   "cell_type": "markdown",
   "metadata": {
    "id": "0oL9xFSdOFyC"
   },
   "source": [
    "Recall that in the beginning we imported numpy as np, so when we call functions from numpy we write np.function()."
   ]
  },
  {
   "cell_type": "markdown",
   "metadata": {
    "id": "1ZlGLI5Wg6S7"
   },
   "source": [
    "Notice the array function has parentheses (), and then the whole array must be enclosed in a set of brackets [] inside that. Within that, each row of the array should be in its own set of brackets, separated by commas.\n",
    "\n",
    "\n",
    "### Question 3: Create the following 2D array and then print it:\n",
    "\n",
    "    1 2 3\n",
    "    4 5 6"
   ]
  },
  {
   "cell_type": "code",
   "execution_count": null,
   "metadata": {
    "id": "lKh2LkoPg6S7"
   },
   "outputs": [],
   "source": [
    "#solution here"
   ]
  },
  {
   "cell_type": "markdown",
   "metadata": {
    "id": "tvy7ACFqg6S_"
   },
   "source": [
    "&nbsp; \n",
    "\n",
    "## **Populating Arrays**\n",
    "\n",
    "You don't always have to put values into your array manually, especially if, for example, you want a function to sample numbers evenly along some axis. \n",
    "\n",
    "&nbsp;\n",
    "\n",
    "Here are two ways to make arrays of evenly spaced numbers:\n",
    "\n",
    "\n",
    "---\n",
    "\n",
    "\n",
    "\n",
    "The first is np.linspace(), giving you an array with numbers between two values that are linearly spaced (e.g. 2, 4, 6, 8, 10). \n",
    "\n",
    "The second is np.logspace(), giving you an array between two values that are spaced evenly in log10 (e.g. 10^1, 10^1.1, 10^1.2).\n",
    "\n",
    "&nbsp;\n",
    "    \n",
    "The syntax is the following:\n",
    "\n",
    "    np.linspace(beginning number, end number, number of points)\n",
    "   \n",
    "    np.logspace(beginning exponent, end exponent, number of points)\n",
    "\n",
    "\n",
    "The following also works if you don't feel like calculating the exponent for np.log10\n",
    "\n",
    "    np.logspace(np.log10(beginning number), np.log10(end number), number of points)\n",
    "  \n",
    "&nbsp;\n",
    "\n",
    "These are *inclusive* sampling functions, meaning that the end number you give is included in the output array.\n",
    "\n",
    "\n",
    "### Question 4: Create two arrays and assign them to variables. Each should have ten entries between 1 and 100, one in linear space and the other in logspace. Print them to check :)\n",
    "\n"
   ]
  },
  {
   "cell_type": "code",
   "execution_count": null,
   "metadata": {
    "id": "ArwMCOBGg6S_"
   },
   "outputs": [],
   "source": [
    "# solution here"
   ]
  },
  {
   "cell_type": "markdown",
   "metadata": {
    "id": "WUWG1Nqdg6TJ"
   },
   "source": [
    "&nbsp; \n",
    "\n",
    "Another quick way to create an array is through np.zeros. This populates an array with, well, zeros. It might sound useless at first, but it's an easy way to make an array that you will later replace with different values. It helps keep arrays at a fixed length, for instance. More on that later.\n",
    "\n",
    "\n",
    "\n",
    "The syntax is simply number of rows, number of columns. If it's 1D, then it can just be:\n",
    "\n",
    "    np.zeros(3) #1x3 array of zeros\n",
    "    \n",
    "If it's larger than 1D, you need two sets of parentheses:\n",
    "\n",
    "    np.zeros((rows, columns))\n",
    "        \n",
    "### Question 5: Create a 3x3 array of zeros (and print it out)"
   ]
  },
  {
   "cell_type": "code",
   "execution_count": null,
   "metadata": {
    "id": "2gY7couMg6TK"
   },
   "outputs": [],
   "source": [
    "#solution here\n",
    "\n"
   ]
  },
  {
   "cell_type": "markdown",
   "metadata": {
    "id": "qRl9OzrgaFJ8"
   },
   "source": [
    "&nbsp; \n",
    "&nbsp; \n",
    "-------\n",
    "#PAUSE HERE AND TAKE A BREAK!\n",
    "-------"
   ]
  },
  {
   "cell_type": "markdown",
   "metadata": {
    "id": "SArwaM5Ug6TM"
   },
   "source": [
    "&nbsp; \n",
    "\n",
    "## **Indexing**\n",
    "\n",
    "An index is the position of some element in an array. Remember above we talked about using the coordinates (row, column) of an element in an array to get its value? \n",
    "\n",
    "### **Note that Python uses zero-based indexing!!\n",
    "\n",
    "This means that the first value of an array is the 0th index. Repeating that: **the first value in an array is the zeroth index**. So the second element has index 1, the third has index 2, and so on...\n",
    "\n",
    "\n",
    "To call a certain value from an array, call the array name followed by brackets containing the index of the value you want:\n",
    "\n",
    "   `array[0]`\n",
    "\n",
    "or for 2D\n",
    "\n",
    "   `array[0,0] # again in row, col notation`\n",
    "    \n",
    "The value inside the brackets can also be a variable, so long as the variable is an **integer**. \n",
    "\n",
    "\n",
    "A helpful shortcut is that you can also count backwards in your array with a negative sign, so **the last value in your array is always array[-1]**.\n",
    "\n",
    "\n",
    "### Question 6: Print out the first and last value in your linspace array."
   ]
  },
  {
   "cell_type": "code",
   "execution_count": null,
   "metadata": {
    "id": "ygJAGuvfg6TN"
   },
   "outputs": [],
   "source": [
    "#solution here"
   ]
  },
  {
   "cell_type": "markdown",
   "metadata": {
    "id": "ous553lZg6TP"
   },
   "source": [
    "\n",
    "### **Slicing arrays**\n",
    "\n",
    "Finally, you can also grab **slices** of arrays between certain index values. This is helpful if you want to plot only a small subsample of your data, for example.\n",
    "\n",
    "&nbsp;\n",
    "\n",
    "For slicing, use a colon. Syntax:\n",
    "\n",
    "    :x - from beginning to index x\n",
    "    x: - from index x until the end\n",
    "    a:b - from index a to b\n",
    "    a:b:c - every c'th entry between indices a and b\n",
    "    \n",
    "These can be combined, e.g. a::c goes from index a until the end in steps of c.\n",
    "\n",
    "&nbsp;\n",
    "\n",
    "Slicing is *exclusive*, so the last index of a range isn't included. For example, if you want to take index two through six of an array you should do:\n",
    "\n",
    "    array[2:7]\n",
    "\n",
    "\n",
    "### Question 7: Print out the following: a) your linear array until index 5; b) your log array beginning at index 1; c) your linear array between indices 4 and 8; and d) your full linear array in steps of 2 indices."
   ]
  },
  {
   "cell_type": "code",
   "execution_count": 1,
   "metadata": {
    "id": "3g5_AJLSg6TP"
   },
   "outputs": [],
   "source": [
    "#solution here\n"
   ]
  },
  {
   "cell_type": "markdown",
   "metadata": {
    "id": "MyHdzXzkg6TU"
   },
   "source": [
    "&nbsp;\n",
    "## **Array Manipulation and Attributes**\n",
    "\n",
    "You can manipulate all elements of an array with one statement. Check it out:\n",
    "\n",
    "### Question 8: Create a new array which is your logspace array divided by 2. Create another new array which is your linspace array + 2."
   ]
  },
  {
   "cell_type": "code",
   "execution_count": null,
   "metadata": {
    "id": "6pWCB8MHg6TV"
   },
   "outputs": [],
   "source": [
    "#solution here\n",
    "\n"
   ]
  },
  {
   "cell_type": "markdown",
   "metadata": {
    "id": "EpyJiUwbg6TY"
   },
   "source": [
    "\n",
    "You can **add values to the end of an array** using np.append(). Use it like this:\n",
    "\n",
    "    np.append(array, something_appended)\n",
    "    \n",
    "You can even append another array, like this:\n",
    "\n",
    "    np.append(array, [5, 6])\n",
    "    np.append(array1, array2)\n",
    "\n",
    "    \n",
    "### Question 9: Create a new array which is another linear array from 100 to 200 appended to your linspace array."
   ]
  },
  {
   "cell_type": "code",
   "execution_count": null,
   "metadata": {
    "id": "xEcCM2shg6TY"
   },
   "outputs": [],
   "source": [
    "#solution here\n",
    "\n"
   ]
  },
  {
   "cell_type": "markdown",
   "metadata": {
    "id": "I_yDyWXfg6Tb"
   },
   "source": [
    "\n",
    "\n",
    "The last part of today will be showing you how to acquire different information from an array. Some of these are attributes of the array, and some of them are attributes of np itself, so you may need to look this up again in the future.\n",
    "\n",
    "&nbsp;\n",
    "\n",
    "Attributes of the array means that you call this by nameofarray.command:\n",
    "   \n",
    "    ndim - prints dimensions of your array\n",
    "    size - number of elements in n-dimensional array\n",
    "    shape - shape given by (rows, columns)\n",
    "    flatten() - collapses the array along one axis\n",
    "    T - transpose the matrix\n",
    "    reshape(x, y) - change the dimensions of the array to x, y -- the total number of elements (x*y) MUST match\n",
    "   \n",
    "Attributes of numpy, meaning that you call it by np.command(nameofarray):\n",
    "\n",
    "    sum - sum all the elements in the array\n",
    "    min - print minimum value in array\n",
    "    max - print maximum value\n",
    "    sort - print array in ascending order\n",
    "    len - print number of elements along the row axis\n",
    "    dot - matrix multiplication\n",
    "\n",
    "\n",
    "### Question 10: Find the shape of your last array, and then print the sum of that array\n",
    "    "
   ]
  },
  {
   "cell_type": "code",
   "execution_count": null,
   "metadata": {
    "id": "z6cXwWLkYHBv"
   },
   "outputs": [],
   "source": [
    "#solution here\n",
    "\n"
   ]
  },
  {
   "cell_type": "markdown",
   "metadata": {
    "id": "8Po6uEVmg6Tb"
   },
   "source": [
    "&nbsp; \n",
    "\n",
    "### You will have received a link to exercises to do at the end of each day's lesson (Exercises.ipynb). Please do the Day 1 exercises with your fellow students before the start of the next session!"
   ]
  }
 ],
 "metadata": {
  "colab": {
   "collapsed_sections": [],
   "name": "Day1.ipynb",
   "provenance": []
  },
  "kernelspec": {
   "display_name": "Python 3",
   "language": "python",
   "name": "python3"
  },
  "language_info": {
   "codemirror_mode": {
    "name": "ipython",
    "version": 3
   },
   "file_extension": ".py",
   "mimetype": "text/x-python",
   "name": "python",
   "nbconvert_exporter": "python",
   "pygments_lexer": "ipython3",
   "version": "3.7.8"
  }
 },
 "nbformat": 4,
 "nbformat_minor": 1
}
