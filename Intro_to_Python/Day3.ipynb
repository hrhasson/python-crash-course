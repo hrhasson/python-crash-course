{
 "cells": [
  {
   "cell_type": "markdown",
   "metadata": {
    "id": "Bp0jk3Nva7pH"
   },
   "source": [
    "# **XSPL Research Experience for High school students (REH)** \n",
    "\n",
    "written by Jackie Champagne (UT Austin), adapted by Hannah Hasson (U of Rochester)  \n",
    "# Introduction to Python Day 3: \n",
    "## Interpolation & Fitting Data\n",
    "\n",
    "Welcome back again! So far we have covered basic syntax, arrays, if statements, for loops, functions, and plotting. Now we can start building some data analysis skills using statistics. \n",
    "\n",
    "\n",
    "Today we will start by learning about reading in data files. But of course, let's import numpy and matplotlib first :)"
   ]
  },
  {
   "cell_type": "code",
   "execution_count": 1,
   "metadata": {
    "id": "elILoRaLs9bF"
   },
   "outputs": [],
   "source": [
    "import numpy as np\n",
    "import matplotlib.pyplot as plt"
   ]
  },
  {
   "cell_type": "markdown",
   "metadata": {
    "id": "-tJOhj_UoF-8"
   },
   "source": [
    "&nbsp;\n",
    "## **Loading in files**\n",
    "\n",
    "Up until now, none of the exercises have required you to load in an outside file to the notebook, but this is definitely a skill you'll need! So let's learn how to work with files in python.\n",
    "\n",
    "We will start with learning how to import a file into Colab. You will have to upload the file before you use it in a notebook. This is not needed if you are running python offline, but since Colab doesn't save your files, you'll have to feed it the file whenever you re-open the notebook. We can talk about more permanent ways to do this later, but for now, here's what to do:\n",
    "\n",
    "1. Click on the picture of the folder on the lefthand sidebar. You should now be in the \"Files\" menu.\n",
    "2. Click the picture of the paper with an up arrow, and then select the file from your computer. For this lesson, I have uploaded a sample gaussian data file \"spectrum.csv\" to the drive for you to download to your computer. Upload that file here now.\n",
    "\n",
    "&nbsp;\n",
    "\n",
    "Now that we have our file uploaded to Colab, let's load it into python. We will use [numpy.genfromtxt](https://numpy.org/doc/stable/reference/generated/numpy.genfromtxt.html?highlight=genfromtxt#numpy.genfromtxt) to read in our CSV file. Wait-- what is a CSV? It stands for **Comma-Separated Value**. So it's just a file with data separated by commas! If you open the CSV file on your computer, that is exactly what you will see: numbers separated by commas.\n",
    "\n",
    "\n",
    "Here's how you import CSV files with np.genfromtxt:\n",
    "\n",
    "    np.genfromtxt(filename, delimiter=\",\")\n",
    "\n",
    "\n",
    "The \"**delimiter**\" is the character that separates each datapoint, which here is a comma. You can use pretty much anything as a delimiter, but commas are pretty typical. In fact, you can export data in Excel as a CSV.\n",
    "\n",
    "&nbsp;\n",
    "\n",
    "Let's load our file in. We have two columns of data, one for wavelength and the other for the signal intensity, so let's read those in separately. Since python reads in data by row, and our file has the data in two columns, we will **transpose** our array so that it's two rows. Then we can assign each row of data to a variable: "
   ]
  },
  {
   "cell_type": "code",
   "execution_count": 3,
   "metadata": {
    "colab": {
     "base_uri": "https://localhost:8080/"
    },
    "executionInfo": {
     "elapsed": 102,
     "status": "ok",
     "timestamp": 1622058293844,
     "user": {
      "displayName": "Hannah Hasson",
      "photoUrl": "https://lh3.googleusercontent.com/a-/AOh14GioHAVrb-zeqnC3J8ovKfnzU9k_CuARLJ5xw4AiYQ=s64",
      "userId": "03023097431734290550"
     },
     "user_tz": 240
    },
    "id": "O5qMPYJaa7pN",
    "outputId": "5891db5c-7a7d-4436-b50b-20c5cacc7a5b"
   },
   "outputs": [
    {
     "name": "stdout",
     "output_type": "stream",
     "text": [
      "(211, 2)\n",
      "(2, 211)\n"
     ]
    }
   ],
   "source": [
    "#Load in data in original format\n",
    "data_columns = np.genfromtxt(\"spectrum.csv\", delimiter = \",\")\n",
    "print(data_columns.shape)\n",
    "\n",
    "#Take the transpose so we have two rows of data\n",
    "data_rows = data_columns.T\n",
    "print(data_rows.shape)\n",
    "\n",
    "#Assign each row to a variable\n",
    "wavelength, signal = data_rows"
   ]
  },
  {
   "cell_type": "markdown",
   "metadata": {
    "id": "ki3LUq70NK0b"
   },
   "source": [
    "To unpack what just happened a bit:\n",
    "\n",
    "1. We loaded in our file as an array to the variable \"data_columns.\" This file has 211 rows and 2 columns (one for wavelength, one for light intensity).\n",
    "2. We [transposed](https://https://mathinsight.org/matrix_transpose) the data using \".T\", which flips along the diagonal. Now we see we have 2 rows and 211 columns.\n",
    "3. We assigned the first row of data to the variable \"wavelength,\" and the second to \"signal.\" This double-assignment is a trick you can do if you know how many rows of data you have."
   ]
  },
  {
   "cell_type": "markdown",
   "metadata": {
    "id": "tnlsKXE7ITC5"
   },
   "source": [
    "We can plot this data and see what it looks like:"
   ]
  },
  {
   "cell_type": "code",
   "execution_count": 4,
   "metadata": {
    "colab": {
     "base_uri": "https://localhost:8080/",
     "height": 290
    },
    "executionInfo": {
     "elapsed": 303,
     "status": "ok",
     "timestamp": 1622058296451,
     "user": {
      "displayName": "Hannah Hasson",
      "photoUrl": "https://lh3.googleusercontent.com/a-/AOh14GioHAVrb-zeqnC3J8ovKfnzU9k_CuARLJ5xw4AiYQ=s64",
      "userId": "03023097431734290550"
     },
     "user_tz": 240
    },
    "id": "8dmP6-kMIaUe",
    "outputId": "0c0a8ccf-df16-44fa-b5b8-93986be99e5e"
   },
   "outputs": [
    {
     "data": {
      "image/png": "[encoded data removed]",
      "text/plain": [
       "<Figure size 432x288 with 1 Axes>"
      ]
     },
     "metadata": {
      "needs_background": "light"
     },
     "output_type": "display_data"
    }
   ],
   "source": [
    "plt.plot(wavelength, signal)\n",
    "plt.xlabel(\"Wavelength (Angstrom)\")\n",
    "plt.ylabel(\"Signal intensity \")\n",
    "plt.show()"
   ]
  },
  {
   "cell_type": "markdown",
   "metadata": {
    "id": "YhQG2Li-IriE"
   },
   "source": [
    "This data actually shows light of a specific color that was emitted from some hot plasma out in space! We call this a **spectral line**. \n",
    "\n",
    "\n",
    "We want to learn about the properties of this line, but how? Well, scientists like to fit their data to mathematical **models** (equations) that explain what is happening.\n",
    "\n",
    "For the case of spectral lines, we typically use what's called a Gaussian model.\n"
   ]
  },
  {
   "cell_type": "markdown",
   "metadata": {
    "id": "n-_17NxgAYuv"
   },
   "source": [
    "&nbsp;\n",
    "## **A bit of math: What is a Gaussian?**\n",
    "\n",
    "A Gaussian (a.k.a. \"bell curve\") is one of the most common curves you will see in physics. The Gaussian looks like a single smooth peak, and shows up in statistical physics quite a bit. For example, emission lines in stars and other plasmas generally take this shape. A Gaussian curve looks like this:\n",
    "\n",
    "![](https://drive.google.com/uc?export=view&id=1DO9ehzwfXJOC6dtjdT-_PtMi_PUwJkRV)\n",
    "\n",
    "The function is:\n",
    "\n",
    "## $f(x)=a\\cdot e^\\frac{-(x-\\mu)^2}{2\\sigma^2}$\n",
    "\n",
    "The center of the curve is at position $\\mu$, and the curve has width 2$\\sigma$ and maximum height $a$. \n",
    "\n",
    "Note that here $e$ is Euler's number ($e\\sim 2.7$.) The python function for $e$ raised to some power is np.exp(some_power).\n"
   ]
  },
  {
   "cell_type": "markdown",
   "metadata": {
    "id": "m9qJRtRnNec6"
   },
   "source": [
    "### Question 1: Let's use our skills from last time for defining our own functions and make a \"Gaussian\" function with inputs x, mu, sigma, and a that has the form of the function above:"
   ]
  },
  {
   "cell_type": "code",
   "execution_count": null,
   "metadata": {
    "id": "sawi4dXJIILx"
   },
   "outputs": [],
   "source": [
    "def gaussian(x,mu,sigma,a):\n",
    "  answer = # define your gaussian here (hint: this was part of the Day 2 exercises)\n",
    "  return answer\n",
    "\n",
    "# Be careful with your parentheses!"
   ]
  },
  {
   "cell_type": "markdown",
   "metadata": {
    "id": "_8xo8gBcJQWp"
   },
   "source": [
    "### Question 2: Use np.linspace to make an array of 50 datapoints from 0 to 100 called \"xvals\". Then feed this array into your gaussian function in place of the \"x\" input. Pick whatever single values you want for a, mu, and sigma."
   ]
  },
  {
   "cell_type": "code",
   "execution_count": null,
   "metadata": {
    "id": "ASjMc5GWOTaS"
   },
   "outputs": [],
   "source": [
    "#solution here\n",
    "\n",
    "xvals = \n",
    "\n",
    "yvals = gaussian(    )"
   ]
  },
  {
   "cell_type": "markdown",
   "metadata": {
    "id": "60CMRaHxPvBE"
   },
   "source": [
    "### Question 3: Plot this bad boy using plt.plot()."
   ]
  },
  {
   "cell_type": "code",
   "execution_count": null,
   "metadata": {
    "id": "Q4pE1AOIP2Af"
   },
   "outputs": [],
   "source": [
    "#solution here"
   ]
  },
  {
   "cell_type": "markdown",
   "metadata": {
    "id": "EegGWZ_jQGes"
   },
   "source": [
    "Take a second to look at the width, height, and mean value of your plot and compare it to your inputs.\n"
   ]
  },
  {
   "cell_type": "markdown",
   "metadata": {
    "id": "HYDyplVLR_0L"
   },
   "source": [
    "&nbsp; \n",
    "&nbsp; \n",
    "-------\n",
    "# PAUSE HERE AND TAKE A BREAK!\n",
    "-------\n",
    "\n",
    "&nbsp;"
   ]
  },
  {
   "cell_type": "markdown",
   "metadata": {
    "id": "Tjv_Yy-dZBGu"
   },
   "source": [
    "## **Fitting a function to data**\n",
    "\n",
    "Let's now learn about fitting a function to data! \n",
    "\n",
    "In research, you typically have some **data** you've collected, and then a **model** (a.k.a. some mathematical function) that you think the data should follow. There is always noise in the data because no instrument is perfect, so the model won't perfectly predict the data. As scientists, we can use a technique called [**least-squares**](https://mathworld.wolfram.com/LeastSquaresFitting.html) to minimize the difference between the plot of the model and the real data points. This will make more sense once you see it visually.\n",
    "\n",
    "\n",
    "\n",
    "\n",
    "Let's start with the simplest example of fitting a curve to some data. We can define a function for a line just as we did last time:"
   ]
  },
  {
   "cell_type": "code",
   "execution_count": 6,
   "metadata": {
    "id": "CbVl0mF9jF4a"
   },
   "outputs": [],
   "source": [
    "def line(x, m, b):\n",
    "  y = m*x +b\n",
    "  return y"
   ]
  },
  {
   "cell_type": "markdown",
   "metadata": {
    "id": "XOu8o9wKjOsK"
   },
   "source": [
    "\n",
    "Let's come up with some random noisy data that we could fit a line to. I'm going to use the [np.random](https://numpy.org/doc/1.16/reference/routines.random.html) subpackage to add some noise of a certain scale to the data in order to make it not be a perfect line. I'm going to arbitrarily choose that the true line (without noise) will have a slope of 2 and an intercept of 5."
   ]
  },
  {
   "cell_type": "code",
   "execution_count": 7,
   "metadata": {
    "colab": {
     "base_uri": "https://localhost:8080/",
     "height": 265
    },
    "executionInfo": {
     "elapsed": 240,
     "status": "ok",
     "timestamp": 1622058304537,
     "user": {
      "displayName": "Hannah Hasson",
      "photoUrl": "https://lh3.googleusercontent.com/a-/AOh14GioHAVrb-zeqnC3J8ovKfnzU9k_CuARLJ5xw4AiYQ=s64",
      "userId": "03023097431734290550"
     },
     "user_tz": 240
    },
    "id": "MF5-Po7GjUkQ",
    "outputId": "9f375335-13ba-41d6-917f-f3c70386c5cc"
   },
   "outputs": [
    {
     "data": {
      "image/png": "[encoded data removed]",
      "text/plain": [
       "<Figure size 432x288 with 1 Axes>"
      ]
     },
     "metadata": {
      "needs_background": "light"
     },
     "output_type": "display_data"
    }
   ],
   "source": [
    "xvals = np.linspace(-5,5,10)\n",
    "\n",
    "#generate random noise\n",
    "rng = np.random.RandomState(108) #seed random generator so it's reproducible\n",
    "noise = rng.normal(0,2,10) #extra signal generally between -2 and 2\n",
    "\n",
    "#generate pure and noisy data\n",
    "ynoise = 2*xvals + 5 + noise \n",
    "\n",
    "plt.plot(xvals, ynoise,\"o\") \n",
    "plt.show()"
   ]
  },
  {
   "cell_type": "markdown",
   "metadata": {
    "id": "o4ZCnhrWWsPH"
   },
   "source": [
    "We can see how adding the noise impacted the data, since it is definitely not a straight line. In real experiments you will always have noise, so your data will never perfectly fit the model. \n",
    "\n",
    "Pretending that we don't already know what the inputs of this data are, let's try fitting a straight line to it. We will now go through to do this with opt.curve_fit. First we import the **optimize** subpackage from scipy. Let's import it as \"opt.\" "
   ]
  },
  {
   "cell_type": "code",
   "execution_count": 8,
   "metadata": {
    "id": "Ggj8-dNCa7pU"
   },
   "outputs": [],
   "source": [
    "#Import the optimize function\n",
    "from scipy import optimize as opt"
   ]
  },
  {
   "cell_type": "markdown",
   "metadata": {
    "id": "vcXANVfba7pX"
   },
   "source": [
    "\n",
    "Optimize is a subpackage of scipy with lots of nice functions for minimizing and maximizing mathematical functions. We will be using the [curve_fit](https://docs.scipy.org/doc/scipy/reference/generated/scipy.optimize.curve_fit.htmlhttps://) function, which tries to find what values of the model's inputs that will minimize the difference between the function and your data.\n",
    "\n",
    "Here is how we call the **opt.curve_fit** function:\n",
    "\n",
    "    bfpars, covar = opt.curve_fit(function, xdata, ydata, p0=initial_guess)\n",
    "\n",
    "\n",
    "This function returns the **best fit parameters** (bfpars) for your function variables, as well as something called the \"covariance matrix\" (covar, which we don't need to worry about). \n",
    "\n",
    "\n",
    "The last input, **p0, is the initial guess** of the function's variables - this is important because a bad first guess (or lack of a first guess) of the function inputs will cause a bad fit. If you are trying to fit multiple variables in your function, you will need to provide one guess for each variable, fed to the optimizer as a list. \n",
    "\n",
    "\n"
   ]
  },
  {
   "cell_type": "markdown",
   "metadata": {
    "id": "aIFh6H_jlkL0"
   },
   "source": [
    "\n",
    "*NOTE: The order of the guesses in p0 has to be the same as the order of the inputs in the function!*"
   ]
  },
  {
   "cell_type": "code",
   "execution_count": 9,
   "metadata": {
    "colab": {
     "base_uri": "https://localhost:8080/"
    },
    "executionInfo": {
     "elapsed": 101,
     "status": "ok",
     "timestamp": 1622058308454,
     "user": {
      "displayName": "Hannah Hasson",
      "photoUrl": "https://lh3.googleusercontent.com/a-/AOh14GioHAVrb-zeqnC3J8ovKfnzU9k_CuARLJ5xw4AiYQ=s64",
      "userId": "03023097431734290550"
     },
     "user_tz": 240
    },
    "id": "hG8d7suhmwSY",
    "outputId": "822f2a1c-ffd8-467b-8845-8b7d4556d2bb"
   },
   "outputs": [
    {
     "name": "stdout",
     "output_type": "stream",
     "text": [
      "[1.96615035 4.9124747 ]\n"
     ]
    }
   ],
   "source": [
    "bfpars, covar =  opt.curve_fit(line, xvals, ynoise, p0=[1, 3]) #guessing m=1, b=3\n",
    "\n",
    "print(bfpars)"
   ]
  },
  {
   "cell_type": "markdown",
   "metadata": {
    "id": "_REoXTYZpatD"
   },
   "source": [
    "\"Bfpars\" is now an array containing the best fit parameters, in the same order as your function. So in my case, bfpars[0] is $m$ and bfpars[1] is $b$.\n",
    "\n",
    "This is telling us that the closest fit of a line to the data gives m=1.97 and b=4.91. This is reasonably close to the true values of m=2, b=5! \n",
    "\n"
   ]
  },
  {
   "cell_type": "code",
   "execution_count": 10,
   "metadata": {
    "colab": {
     "base_uri": "https://localhost:8080/",
     "height": 265
    },
    "executionInfo": {
     "elapsed": 253,
     "status": "ok",
     "timestamp": 1622058309954,
     "user": {
      "displayName": "Hannah Hasson",
      "photoUrl": "https://lh3.googleusercontent.com/a-/AOh14GioHAVrb-zeqnC3J8ovKfnzU9k_CuARLJ5xw4AiYQ=s64",
      "userId": "03023097431734290550"
     },
     "user_tz": 240
    },
    "id": "Uz9SCl6QZJSE",
    "outputId": "0c08bbcd-2b82-48e3-d8d7-cfd3d9c11921"
   },
   "outputs": [
    {
     "data": {
      "image/png": "[encoded data removed]",
      "text/plain": [
       "<Figure size 432x288 with 1 Axes>"
      ]
     },
     "metadata": {
      "needs_background": "light"
     },
     "output_type": "display_data"
    }
   ],
   "source": [
    "yfit = xvals*bfpars[0] + bfpars[1]\n",
    "\n",
    "plt.plot(xvals, ynoise,\"o\", label=\"noisy data\") #the blue dots\n",
    "plt.plot(xvals, yfit, label=\"fitted line\") #orange line\n",
    "plt.legend()\n",
    "plt.show()"
   ]
  },
  {
   "cell_type": "markdown",
   "metadata": {
    "id": "DeZnp8C0h59U"
   },
   "source": [
    "\n",
    "Let's now try fitting our Gaussian function to the spectral data we loaded in."
   ]
  },
  {
   "cell_type": "markdown",
   "metadata": {
    "id": "JMSn-f0QH493"
   },
   "source": [
    "### Question 4: Apply the curve_fit function to the function \"gaussian\" with the data \"wavelength\" and \"signal,\" and the initial guesses mu=1e4, sigma=100, a=2e-10. Print the bfpars that come out."
   ]
  },
  {
   "cell_type": "code",
   "execution_count": null,
   "metadata": {
    "id": "LDCRvACOa7pb"
   },
   "outputs": [],
   "source": [
    "bfpars, covar =  opt.curve_fit(, , , p0=[ , ]) #edit this\n",
    "\n",
    "#print the results\n"
   ]
  },
  {
   "cell_type": "markdown",
   "metadata": {
    "id": "9RS4FNoxy-c3"
   },
   "source": [
    "&nbsp;\n",
    "\n",
    "## Interpolating Data\n",
    "\n",
    "You may encounter a situation in research where you will need to **interpolate** a model to interpret your data. This means **finding values in between where you actually have data points**. The scipy library has many different interpolating (and extrapolating) algorithms, but the simplest is a 1D interpolation, called interp1d. \n",
    "\n",
    "\n",
    "Let's first generate a well-behaved function that will be easy to interpolate along. We will use sin(x) for this example and give it a bunch of spaced-out x values."
   ]
  },
  {
   "cell_type": "code",
   "execution_count": 11,
   "metadata": {
    "colab": {
     "base_uri": "https://localhost:8080/",
     "height": 265
    },
    "executionInfo": {
     "elapsed": 394,
     "status": "ok",
     "timestamp": 1622058314158,
     "user": {
      "displayName": "Hannah Hasson",
      "photoUrl": "https://lh3.googleusercontent.com/a-/AOh14GioHAVrb-zeqnC3J8ovKfnzU9k_CuARLJ5xw4AiYQ=s64",
      "userId": "03023097431734290550"
     },
     "user_tz": 240
    },
    "id": "JXJ4KFdTzHqQ",
    "outputId": "43927cb3-6b3a-456b-c678-44e1bb3321a4"
   },
   "outputs": [
    {
     "data": {
      "image/png": "[encoded data removed]",
      "text/plain": [
       "<Figure size 432x288 with 1 Axes>"
      ]
     },
     "metadata": {
      "needs_background": "light"
     },
     "output_type": "display_data"
    }
   ],
   "source": [
    "xarray = np.linspace(-4*np.pi, 4*np.pi, 30)\n",
    "yarray = np.sin(xarray)\n",
    "\n",
    "plt.plot(xarray, yarray, 'o')\n",
    "plt.show()"
   ]
  },
  {
   "cell_type": "markdown",
   "metadata": {
    "id": "ozGNJIhTa7pk"
   },
   "source": [
    "What do you notice about this plot? Well, at first glance it doesn't really look like a sine curve because it is **poorly sampled**, meaning we plotted too few points to see the shape clearly. Of course, since we already know it's a sine curve, we could just sample the function better with more x-values, but what if you didn't know what function fit your data? [Interp1d](https://docs.scipy.org/doc/scipy/reference/generated/scipy.interpolate.interp1d.html) comes to the rescue! "
   ]
  },
  {
   "cell_type": "code",
   "execution_count": 12,
   "metadata": {
    "id": "0xYgRDPCa7pl"
   },
   "outputs": [],
   "source": [
    "from scipy.interpolate import interp1d"
   ]
  },
  {
   "cell_type": "markdown",
   "metadata": {
    "id": "_ODS3PI2KAUc"
   },
   "source": [
    "\n",
    "Here is the general form for the interp1d function:\n",
    "\n",
    "    interp1d(xpoints, ypoints, kind=\"linear\")\n",
    "\n",
    "Of course xpoints and ypoints are the data to interpolate over, but what is \"kind?\" This is the technique used for guessing the values between the known data points. **Linear interpolation** is the default, which just draws a straight line from one point to the next. There are many techniques that the interp1d function can use to find the new points, but here we will stick with this default. Since it is the default, we can just leave out \"kind.\"\n",
    "\n",
    "&nbsp;\n",
    "\n",
    "There are a few steps to interpolation. \n",
    "\n",
    "1.   First, feed the interp1d function your original x- and y-values. It will solve between the points and output a **function**\n",
    "2.   Make a new array of x points with min/max inside the original x-array, but containing more points \n",
    "3.   Feed the new x points into the function you made to get new y points\n",
    "\n",
    " &nbsp;\n",
    "\n",
    "For our example, we'll take the same range of x-values, but take more sample points."
   ]
  },
  {
   "cell_type": "code",
   "execution_count": 13,
   "metadata": {
    "colab": {
     "base_uri": "https://localhost:8080/",
     "height": 265
    },
    "executionInfo": {
     "elapsed": 369,
     "status": "ok",
     "timestamp": 1622058318803,
     "user": {
      "displayName": "Hannah Hasson",
      "photoUrl": "https://lh3.googleusercontent.com/a-/AOh14GioHAVrb-zeqnC3J8ovKfnzU9k_CuARLJ5xw4AiYQ=s64",
      "userId": "03023097431734290550"
     },
     "user_tz": 240
    },
    "id": "-iBgX6Ala7po",
    "outputId": "925f0d3d-e51f-4a89-df3a-a0ca98d058f1"
   },
   "outputs": [
    {
     "data": {
      "image/png": "[encoded data removed]",
      "text/plain": [
       "<Figure size 432x288 with 1 Axes>"
      ]
     },
     "metadata": {
      "needs_background": "light"
     },
     "output_type": "display_data"
    }
   ],
   "source": [
    "interp = interp1d(xarray, yarray)\n",
    "xnew = np.linspace(-4*np.pi, 4*np.pi, 1000)\n",
    "ynew = interp(xnew)\n",
    "\n",
    "plt.plot(xnew, ynew, '.') #new interpolated points\n",
    "plt.plot(xarray, yarray, 'or')#old points\n",
    "plt.show()"
   ]
  },
  {
   "cell_type": "markdown",
   "metadata": {
    "id": "G-p0LH9Da7pq"
   },
   "source": [
    "Now it looks much closer to a sine curve! "
   ]
  },
  {
   "cell_type": "markdown",
   "metadata": {
    "id": "iC2wTGXnA1WB"
   },
   "source": [
    "### Question 5: Try interpolating between these new values with the same technique as above. Add the new upsampled points to the plot."
   ]
  },
  {
   "cell_type": "code",
   "execution_count": null,
   "metadata": {
    "colab": {
     "base_uri": "https://localhost:8080/",
     "height": 265
    },
    "executionInfo": {
     "elapsed": 246,
     "status": "ok",
     "timestamp": 1622058321260,
     "user": {
      "displayName": "Hannah Hasson",
      "photoUrl": "https://lh3.googleusercontent.com/a-/AOh14GioHAVrb-zeqnC3J8ovKfnzU9k_CuARLJ5xw4AiYQ=s64",
      "userId": "03023097431734290550"
     },
     "user_tz": 240
    },
    "id": "v7xazOy1Bnwi",
    "outputId": "548af78f-4436-413a-f135-189a11ac74ae"
   },
   "outputs": [],
   "source": [
    "xpoints = np.linspace(-15, 15, 8)\n",
    "ypoints = xpoints**3\n",
    "\n",
    "\n",
    "#interpolation here\n",
    "\n",
    "plt.plot(xpoints, ypoints, \"or\") #the undersampled data\n",
    "#new plot here\n",
    "plt.show()"
   ]
  },
  {
   "cell_type": "markdown",
   "metadata": {
    "id": "OYilT-HrBXFr"
   },
   "source": [
    "\n",
    "Congrats, you've done your first bit of science with Python!\n",
    "\n",
    "\n",
    "### Don't forget to do your final set of exercises in the Exercises.ipynb file. Work with your classmates and send me the exercises when you're all done :)"
   ]
  },
  {
   "cell_type": "code",
   "execution_count": null,
   "metadata": {},
   "outputs": [],
   "source": []
  }
 ],
 "metadata": {
  "colab": {
   "collapsed_sections": [],
   "name": "Day3.ipynb",
   "provenance": []
  },
  "kernelspec": {
   "display_name": "Python 3",
   "language": "python",
   "name": "python3"
  },
  "language_info": {
   "codemirror_mode": {
    "name": "ipython",
    "version": 3
   },
   "file_extension": ".py",
   "mimetype": "text/x-python",
   "name": "python",
   "nbconvert_exporter": "python",
   "pygments_lexer": "ipython3",
   "version": "3.7.8"
  }
 },
 "nbformat": 4,
 "nbformat_minor": 1
}
